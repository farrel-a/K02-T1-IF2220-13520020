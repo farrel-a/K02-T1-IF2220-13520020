{
 "cells": [
  {
   "cell_type": "code",
   "execution_count": 56,
   "metadata": {},
   "outputs": [
    {
     "name": "stdout",
     "output_type": "stream",
     "text": [
      "        id         pH    Hardness        Solids  Chloramines     Sulfate  \\\n",
      "0        1   8.316766  214.373394  22018.417441     8.059332  356.886136   \n",
      "1        2   9.092223  181.101509  17978.986339     6.546600  310.135738   \n",
      "2        3   5.584087  188.313324  28748.687739     7.544869  326.678363   \n",
      "3        4  10.223862  248.071735  28749.716544     7.513408  393.663396   \n",
      "4        5   8.635849  203.361523  13672.091764     4.563009  303.309771   \n",
      "...    ...        ...         ...           ...          ...         ...   \n",
      "2005  2006   8.197353  203.105091  27701.794055     6.472914  328.886838   \n",
      "2006  2007   8.989900  215.047358  15921.412018     6.297312  312.931022   \n",
      "2007  2008   6.702547  207.321086  17246.920347     7.708117  304.510230   \n",
      "2008  2009  11.491011   94.812545  37188.826022     9.263166  258.930600   \n",
      "2009  2010   6.069616  186.659040  26138.780191     7.747547  345.700257   \n",
      "\n",
      "      Conductivity  OrganicCarbon  Trihalomethanes  Turbidity  Potability  \n",
      "0       363.266516      18.436524       100.341674   4.628771           0  \n",
      "1       398.410813      11.558279        31.997993   4.075075           0  \n",
      "2       280.467916       8.399735        54.917862   2.559708           0  \n",
      "3       283.651634      13.789695        84.603556   2.672989           0  \n",
      "4       474.607645      12.363817        62.798309   4.401425           0  \n",
      "...            ...            ...              ...        ...         ...  \n",
      "2005    444.612724      14.250875        62.906205   3.361833           1  \n",
      "2006    390.410231       9.899115        55.069304   4.613843           1  \n",
      "2007    329.266002      16.217303        28.878601   3.442983           1  \n",
      "2008    439.893618      16.172755        41.558501   4.369264           1  \n",
      "2009    415.886955      12.067620        60.419921   3.669712           1  \n",
      "\n",
      "[2010 rows x 11 columns]\n"
     ]
    }
   ],
   "source": [
    "import pandas as pd\n",
    "import numpy\n",
    "import scipy\n",
    "from scipy import stats\n",
    "import matplotlib.pyplot as plt\n",
    "import math\n",
    "\n",
    "dataset = pd.read_csv(\"water_potability.csv\")\n",
    "print(dataset)"
   ]
  },
  {
   "cell_type": "code",
   "execution_count": 57,
   "metadata": {},
   "outputs": [
    {
     "name": "stdout",
     "output_type": "stream",
     "text": [
      "mean: 7.0871927687138205\n",
      "median: 7.029490455474185\n",
      "modus: ModeResult(mode=array([0.22749905]), count=array([1]))\n",
      "standard deviation: 1.572411653857112\n",
      "variance: 2.4724784091856584\n",
      "min: 0.2274990502021987\n",
      "max: 13.999999999999998\n",
      "range: 13.7725009497978\n",
      "Q1: 6.09078502142353\n",
      "Q2: 7.029490455474185\n",
      "Q3: 8.053006240791538\n",
      "IQR: 1.9622212193680078\n",
      "Skew: 0.048498286755236694\n",
      "Kurtosis: 0.6223621582163492\n"
     ]
    },
    {
     "data": {
      "image/png": "[encoded data removed]",
      "text/plain": [
       "<Figure size 432x288 with 1 Axes>"
      ]
     },
     "metadata": {
      "needs_background": "light"
     },
     "output_type": "display_data"
    },
    {
     "data": {
      "image/png": "[encoded data removed]",
      "text/plain": [
       "<Figure size 432x288 with 1 Axes>"
      ]
     },
     "metadata": {
      "needs_background": "light"
     },
     "output_type": "display_data"
    }
   ],
   "source": [
    "pHMean = numpy.mean(dataset.pH)\n",
    "pHMedian = numpy.median(dataset.pH)\n",
    "pHModus = scipy.stats.mode(dataset.pH)\n",
    "pHSTD = numpy.std(dataset.pH)\n",
    "pHVariance = numpy.var(dataset.pH)\n",
    "pHMin = numpy.min(dataset.pH)\n",
    "pHMax = numpy.max(dataset.pH)\n",
    "pHRange = pHMax-pHMin\n",
    "pHQ1 = numpy.quantile(dataset.pH,0.25)\n",
    "pHQ2 = numpy.quantile(dataset.pH,0.5)\n",
    "pHQ3 = numpy.quantile(dataset.pH,0.75)\n",
    "pHIQR = pHQ3 - pHQ1\n",
    "pHSkew = scipy.stats.skew(dataset.pH)\n",
    "pHKurtosis = scipy.stats.kurtosis(dataset.pH)\n",
    "\n",
    "print(\"mean: \" + str(pHMean))\n",
    "print(\"median: \" + str(pHMedian))\n",
    "print(\"modus: \" + str(pHModus))\n",
    "print(\"standard deviation: \" + str(pHSTD))\n",
    "print(\"variance: \" + str(pHVariance))\n",
    "print(\"min: \" + str(pHMin))\n",
    "print(\"max: \" + str(pHMax))\n",
    "print(\"range: \" + str(pHRange))\n",
    "print(\"Q1: \" + str(pHQ1))\n",
    "print(\"Q2: \" + str(pHQ2))\n",
    "print(\"Q3: \" + str(pHQ3))\n",
    "print(\"IQR: \" + str(pHIQR))\n",
    "print(\"Skew: \" + str(pHSkew))\n",
    "print(\"Kurtosis: \" + str(pHKurtosis))\n",
    "\n",
    "temp, histogram_pH = plt.subplots(1,1)\n",
    "histogram_pH.hist(dataset.pH)\n",
    "histogram_pH.set_xlabel(\"pH\")\n",
    "histogram_pH.set_ylabel(\"amount\")\n",
    "plt.show();\n",
    "\n",
    "temp, boxplot_pH = plt.subplots(1,1)\n",
    "boxplot_pH.boxplot(dataset.pH)\n",
    "boxplot_pH.set_ylabel(\"pH\")\n",
    "plt.show();\n",
    "\n",
    "#harus melakukan pengecekan data skew dan kurtosis untuk melihat jika data memiliki normal distribution\n",
    "#nilai skew dan kurtosis harus mendekati 0\n",
    "#(nilai kurtosis mengikuti definisi fisher sehingga hasil akhir kurtosis pada hasil print kurtosis sudah dikurangi 3)\n",
    "#(untuk menentukan normal distribution, skew memiliki besar maksimum 0.05 dan kurtosis memiliki besar maksimum 0.3)\n",
    "\n",
    "#data pH tidak memiliki distribusi normal karena memiliki nilai kurtosis yang besar"
   ]
  },
  {
   "cell_type": "code",
   "execution_count": 58,
   "metadata": {},
   "outputs": [
    {
     "name": "stdout",
     "output_type": "stream",
     "text": [
      "mean: 195.96920903783553\n",
      "median: 197.20352491941043\n",
      "modus: ModeResult(mode=array([73.49223369]), count=array([1]))\n",
      "standard deviation: 32.63504465869229\n",
      "variance: 1065.0461398748398\n",
      "min: 73.4922336890611\n",
      "max: 317.33812405558257\n",
      "range: 243.84589036652147\n",
      "Q1: 176.74065667669896\n",
      "Q2: 197.20352491941043\n",
      "Q3: 216.44758866727156\n",
      "IQR: 39.7069319905726\n",
      "Skew: -0.0852573561057953\n",
      "Kurtosis: 0.5211906487769769\n"
     ]
    },
    {
     "data": {
      "image/png": "[encoded data removed]",
      "text/plain": [
       "<Figure size 432x288 with 1 Axes>"
      ]
     },
     "metadata": {
      "needs_background": "light"
     },
     "output_type": "display_data"
    },
    {
     "data": {
      "image/png": "[encoded data removed]",
      "text/plain": [
       "<Figure size 432x288 with 1 Axes>"
      ]
     },
     "metadata": {
      "needs_background": "light"
     },
     "output_type": "display_data"
    }
   ],
   "source": [
    "HardnessMean = numpy.mean(dataset.Hardness)\n",
    "HardnessMedian = numpy.median(dataset.Hardness)\n",
    "HardnessModus = scipy.stats.mode(dataset.Hardness)\n",
    "HardnessSTD = numpy.std(dataset.Hardness)\n",
    "HardnessVariance = numpy.var(dataset.Hardness)\n",
    "HardnessMin = numpy.min(dataset.Hardness)\n",
    "HardnessMax = numpy.max(dataset.Hardness)\n",
    "HardnessRange = HardnessMax-HardnessMin\n",
    "HardnessQ1 = numpy.quantile(dataset.Hardness,0.25)\n",
    "HardnessQ2 = numpy.quantile(dataset.Hardness,0.5)\n",
    "HardnessQ3 = numpy.quantile(dataset.Hardness,0.75)\n",
    "HardnessIQR = HardnessQ3 - HardnessQ1\n",
    "HardnessSkew = scipy.stats.skew(dataset.Hardness)\n",
    "HardnessKurtosis = scipy.stats.kurtosis(dataset.Hardness)\n",
    "\n",
    "print(\"mean: \" + str(HardnessMean))\n",
    "print(\"median: \" + str(HardnessMedian))\n",
    "print(\"modus: \" + str(HardnessModus))\n",
    "print(\"standard deviation: \" + str(HardnessSTD))\n",
    "print(\"variance: \" + str(HardnessVariance))\n",
    "print(\"min: \" + str(HardnessMin))\n",
    "print(\"max: \" + str(HardnessMax))\n",
    "print(\"range: \" + str(HardnessRange))\n",
    "print(\"Q1: \" + str(HardnessQ1))\n",
    "print(\"Q2: \" + str(HardnessQ2))\n",
    "print(\"Q3: \" + str(HardnessQ3))\n",
    "print(\"IQR: \" + str(HardnessIQR))\n",
    "print(\"Skew: \" + str(HardnessSkew))\n",
    "print(\"Kurtosis: \" + str(HardnessKurtosis))\n",
    "\n",
    "temp, histogram_Hardness = plt.subplots(1,1)\n",
    "histogram_Hardness.hist(dataset.Hardness)\n",
    "histogram_Hardness.set_xlabel(\"Hardness\")\n",
    "histogram_Hardness.set_ylabel(\"amount\")\n",
    "plt.show();\n",
    "\n",
    "temp, boxplot_Hardness = plt.subplots(1,1)\n",
    "boxplot_Hardness.boxplot(dataset.Hardness)\n",
    "boxplot_Hardness.set_ylabel(\"Hardness\")\n",
    "plt.show();\n",
    "\n",
    "#data Hardness tidak memiliki distribusi normal karena memiliki nilai kurtosis yang besar"
   ]
  },
  {
   "cell_type": "code",
   "execution_count": 59,
   "metadata": {},
   "outputs": [
    {
     "name": "stdout",
     "output_type": "stream",
     "text": [
      "mean: 21904.67343905309\n",
      "median: 20926.88215534375\n",
      "modus: ModeResult(mode=array([320.94261127]), count=array([1]))\n",
      "standard deviation: 8623.2520228849\n",
      "variance: 74360475.45018855\n",
      "min: 320.942611274359\n",
      "max: 56488.67241273919\n",
      "range: 56167.72980146483\n",
      "Q1: 15614.412961614333\n",
      "Q2: 20926.88215534375\n",
      "Q3: 27170.534648603603\n",
      "IQR: 11556.12168698927\n",
      "Skew: 0.5905702277342111\n",
      "Kurtosis: 0.333498156306705\n"
     ]
    },
    {
     "data": {
      "image/png": "[encoded data removed]",
      "text/plain": [
       "<Figure size 432x288 with 1 Axes>"
      ]
     },
     "metadata": {
      "needs_background": "light"
     },
     "output_type": "display_data"
    },
    {
     "data": {
      "image/png": "[encoded data removed]",
      "text/plain": [
       "<Figure size 432x288 with 1 Axes>"
      ]
     },
     "metadata": {
      "needs_background": "light"
     },
     "output_type": "display_data"
    }
   ],
   "source": [
    "SolidsMean = numpy.mean(dataset.Solids)\n",
    "SolidsMedian = numpy.median(dataset.Solids)\n",
    "SolidsModus = scipy.stats.mode(dataset.Solids)\n",
    "SolidsSTD = numpy.std(dataset.Solids)\n",
    "SolidsVariance = numpy.var(dataset.Solids)\n",
    "SolidsMin = numpy.min(dataset.Solids)\n",
    "SolidsMax = numpy.max(dataset.Solids)\n",
    "SolidsRange = SolidsMax-SolidsMin\n",
    "SolidsQ1 = numpy.quantile(dataset.Solids,0.25)\n",
    "SolidsQ2 = numpy.quantile(dataset.Solids,0.5)\n",
    "SolidsQ3 = numpy.quantile(dataset.Solids,0.75)\n",
    "SolidsIQR = SolidsQ3 - SolidsQ1\n",
    "SolidsSkew = scipy.stats.skew(dataset.Solids)\n",
    "SolidsKurtosis = scipy.stats.kurtosis(dataset.Solids)\n",
    "\n",
    "print(\"mean: \" + str(SolidsMean))\n",
    "print(\"median: \" + str(SolidsMedian))\n",
    "print(\"modus: \" + str(SolidsModus))\n",
    "print(\"standard deviation: \" + str(SolidsSTD))\n",
    "print(\"variance: \" + str(SolidsVariance))\n",
    "print(\"min: \" + str(SolidsMin))\n",
    "print(\"max: \" + str(SolidsMax))\n",
    "print(\"range: \" + str(SolidsRange))\n",
    "print(\"Q1: \" + str(SolidsQ1))\n",
    "print(\"Q2: \" + str(SolidsQ2))\n",
    "print(\"Q3: \" + str(SolidsQ3))\n",
    "print(\"IQR: \" + str(SolidsIQR))\n",
    "print(\"Skew: \" + str(SolidsSkew))\n",
    "print(\"Kurtosis: \" + str(SolidsKurtosis))\n",
    "\n",
    "temp, histogram_Solids = plt.subplots(1,1)\n",
    "histogram_Solids.hist(dataset.Solids)\n",
    "histogram_Solids.set_xlabel(\"Solids\")\n",
    "histogram_Solids.set_ylabel(\"amount\")\n",
    "plt.show();\n",
    "\n",
    "temp, boxplot_Solids = plt.subplots(1,1)\n",
    "boxplot_Solids.boxplot(dataset.Solids)\n",
    "boxplot_Solids.set_ylabel(\"Solids\")\n",
    "plt.show();\n",
    "\n",
    "#data Solids tidak memiliki distribusi normal karena memiliki nilai skew yang besar"
   ]
  },
  {
   "cell_type": "code",
   "execution_count": 60,
   "metadata": {},
   "outputs": [
    {
     "name": "stdout",
     "output_type": "stream",
     "text": [
      "mean: 7.134322344600092\n",
      "median: 7.1420143046226645\n",
      "modus: ModeResult(mode=array([1.3908709]), count=array([1]))\n",
      "standard deviation: 1.5848197173405134\n",
      "variance: 2.511653536471265\n",
      "min: 1.3908709048851806\n",
      "max: 13.127000000000002\n",
      "range: 11.736129095114823\n",
      "Q1: 6.138326387572855\n",
      "Q2: 7.1420143046226645\n",
      "Q3: 8.109933216133502\n",
      "IQR: 1.9716068285606472\n",
      "Skew: 0.012993791664418169\n",
      "Kurtosis: 0.5454318545555785\n"
     ]
    },
    {
     "data": {
      "image/png": "[encoded data removed]",
      "text/plain": [
       "<Figure size 432x288 with 1 Axes>"
      ]
     },
     "metadata": {
      "needs_background": "light"
     },
     "output_type": "display_data"
    },
    {
     "data": {
      "image/png": "[encoded data removed]",
      "text/plain": [
       "<Figure size 432x288 with 1 Axes>"
      ]
     },
     "metadata": {
      "needs_background": "light"
     },
     "output_type": "display_data"
    }
   ],
   "source": [
    "ChloraminesMean = numpy.mean(dataset.Chloramines)\n",
    "ChloraminesMedian = numpy.median(dataset.Chloramines)\n",
    "ChloraminesModus = scipy.stats.mode(dataset.Chloramines)\n",
    "ChloraminesSTD = numpy.std(dataset.Chloramines)\n",
    "ChloraminesVariance = numpy.var(dataset.Chloramines)\n",
    "ChloraminesMin = numpy.min(dataset.Chloramines)\n",
    "ChloraminesMax = numpy.max(dataset.Chloramines)\n",
    "ChloraminesRange = ChloraminesMax-ChloraminesMin\n",
    "ChloraminesQ1 = numpy.quantile(dataset.Chloramines,0.25)\n",
    "ChloraminesQ2 = numpy.quantile(dataset.Chloramines,0.5)\n",
    "ChloraminesQ3 = numpy.quantile(dataset.Chloramines,0.75)\n",
    "ChloraminesIQR = ChloraminesQ3 - ChloraminesQ1\n",
    "ChloraminesSkew = scipy.stats.skew(dataset.Chloramines)\n",
    "ChloraminesKurtosis = scipy.stats.kurtosis(dataset.Chloramines)\n",
    "\n",
    "print(\"mean: \" + str(ChloraminesMean))\n",
    "print(\"median: \" + str(ChloraminesMedian))\n",
    "print(\"modus: \" + str(ChloraminesModus))\n",
    "print(\"standard deviation: \" + str(ChloraminesSTD))\n",
    "print(\"variance: \" + str(ChloraminesVariance))\n",
    "print(\"min: \" + str(ChloraminesMin))\n",
    "print(\"max: \" + str(ChloraminesMax))\n",
    "print(\"range: \" + str(ChloraminesRange))\n",
    "print(\"Q1: \" + str(ChloraminesQ1))\n",
    "print(\"Q2: \" + str(ChloraminesQ2))\n",
    "print(\"Q3: \" + str(ChloraminesQ3))\n",
    "print(\"IQR: \" + str(ChloraminesIQR))\n",
    "print(\"Skew: \" + str(ChloraminesSkew))\n",
    "print(\"Kurtosis: \" + str(ChloraminesKurtosis))\n",
    "\n",
    "temp, histogram_Chloramines = plt.subplots(1,1)\n",
    "histogram_Chloramines.hist(dataset.Chloramines)\n",
    "histogram_Chloramines.set_xlabel(\"Chloramines\")\n",
    "histogram_Chloramines.set_ylabel(\"amount\")\n",
    "plt.show();\n",
    "\n",
    "temp, boxplot_Chloramines = plt.subplots(1,1)\n",
    "boxplot_Chloramines.boxplot(dataset.Chloramines)\n",
    "boxplot_Chloramines.set_ylabel(\"Chloramines\")\n",
    "plt.show();\n",
    "\n",
    "#data Chloramines tidak memiliki distribusi normal karena memiliki nilai kurtosis yang besar"
   ]
  },
  {
   "cell_type": "code",
   "execution_count": 61,
   "metadata": {},
   "outputs": [
    {
     "name": "stdout",
     "output_type": "stream",
     "text": [
      "mean: 333.21137641518925\n",
      "median: 332.2141128069568\n",
      "modus: ModeResult(mode=array([129.]), count=array([1]))\n",
      "standard deviation: 41.20085823007217\n",
      "variance: 1697.5107188945055\n",
      "min: 129.00000000000003\n",
      "max: 481.0306423059972\n",
      "range: 352.03064230599716\n",
      "Q1: 307.6269864860709\n",
      "Q2: 332.2141128069568\n",
      "Q3: 359.26814739141554\n",
      "IQR: 51.641160905344634\n",
      "Skew: -0.04569367213282734\n",
      "Kurtosis: 0.7819149219038866\n"
     ]
    },
    {
     "data": {
      "image/png": "[encoded data removed]",
      "text/plain": [
       "<Figure size 432x288 with 1 Axes>"
      ]
     },
     "metadata": {
      "needs_background": "light"
     },
     "output_type": "display_data"
    },
    {
     "data": {
      "image/png": "[encoded data removed]",
      "text/plain": [
       "<Figure size 432x288 with 1 Axes>"
      ]
     },
     "metadata": {
      "needs_background": "light"
     },
     "output_type": "display_data"
    }
   ],
   "source": [
    "SulfateMean = numpy.mean(dataset.Sulfate)\n",
    "SulfateMedian = numpy.median(dataset.Sulfate)\n",
    "SulfateModus = scipy.stats.mode(dataset.Sulfate)\n",
    "SulfateSTD = numpy.std(dataset.Sulfate)\n",
    "SulfateVariance = numpy.var(dataset.Sulfate)\n",
    "SulfateMin = numpy.min(dataset.Sulfate)\n",
    "SulfateMax = numpy.max(dataset.Sulfate)\n",
    "SulfateRange = SulfateMax-SulfateMin\n",
    "SulfateQ1 = numpy.quantile(dataset.Sulfate,0.25)\n",
    "SulfateQ2 = numpy.quantile(dataset.Sulfate,0.5)\n",
    "SulfateQ3 = numpy.quantile(dataset.Sulfate,0.75)\n",
    "SulfateIQR = SulfateQ3 - SulfateQ1\n",
    "SulfateSkew = scipy.stats.skew(dataset.Sulfate)\n",
    "SulfateKurtosis = scipy.stats.kurtosis(dataset.Sulfate)\n",
    "\n",
    "print(\"mean: \" + str(SulfateMean))\n",
    "print(\"median: \" + str(SulfateMedian))\n",
    "print(\"modus: \" + str(SulfateModus))\n",
    "print(\"standard deviation: \" + str(SulfateSTD))\n",
    "print(\"variance: \" + str(SulfateVariance))\n",
    "print(\"min: \" + str(SulfateMin))\n",
    "print(\"max: \" + str(SulfateMax))\n",
    "print(\"range: \" + str(SulfateRange))\n",
    "print(\"Q1: \" + str(SulfateQ1))\n",
    "print(\"Q2: \" + str(SulfateQ2))\n",
    "print(\"Q3: \" + str(SulfateQ3))\n",
    "print(\"IQR: \" + str(SulfateIQR))\n",
    "print(\"Skew: \" + str(SulfateSkew))\n",
    "print(\"Kurtosis: \" + str(SulfateKurtosis))\n",
    "\n",
    "temp, histogram_Sulfate = plt.subplots(1,1)\n",
    "histogram_Sulfate.hist(dataset.Sulfate)\n",
    "histogram_Sulfate.set_xlabel(\"Sulfate\")\n",
    "histogram_Sulfate.set_ylabel(\"amount\")\n",
    "plt.show();\n",
    "\n",
    "temp, boxplot_Sulfate = plt.subplots(1,1)\n",
    "boxplot_Sulfate.boxplot(dataset.Sulfate)\n",
    "boxplot_Sulfate.set_ylabel(\"Sulfate\")\n",
    "plt.show();\n",
    "\n",
    "#data Sulfate tidak memiliki distribusi normal karena memiliki nilai kurtosis yang besar"
   ]
  },
  {
   "cell_type": "code",
   "execution_count": 62,
   "metadata": {},
   "outputs": [
    {
     "name": "stdout",
     "output_type": "stream",
     "text": [
      "mean: 426.4767083525792\n",
      "median: 423.43837202443706\n",
      "modus: ModeResult(mode=array([201.61973676]), count=array([1]))\n",
      "standard deviation: 80.68179421728163\n",
      "variance: 6509.55191811978\n",
      "min: 201.6197367551575\n",
      "max: 753.3426195583046\n",
      "range: 551.7228828031471\n",
      "Q1: 366.61921929632433\n",
      "Q2: 423.43837202443706\n",
      "Q3: 482.2097724598859\n",
      "IQR: 115.5905531635616\n",
      "Skew: 0.26781228234697935\n",
      "Kurtosis: -0.2395999421551358\n"
     ]
    },
    {
     "data": {
      "image/png": "[encoded data removed]",
      "text/plain": [
       "<Figure size 432x288 with 1 Axes>"
      ]
     },
     "metadata": {
      "needs_background": "light"
     },
     "output_type": "display_data"
    },
    {
     "data": {
      "image/png": "[encoded data removed]",
      "text/plain": [
       "<Figure size 432x288 with 1 Axes>"
      ]
     },
     "metadata": {
      "needs_background": "light"
     },
     "output_type": "display_data"
    }
   ],
   "source": [
    "ConductivityMean = numpy.mean(dataset.Conductivity)\n",
    "ConductivityMedian = numpy.median(dataset.Conductivity)\n",
    "ConductivityModus = scipy.stats.mode(dataset.Conductivity)\n",
    "ConductivitySTD = numpy.std(dataset.Conductivity)\n",
    "ConductivityVariance = numpy.var(dataset.Conductivity)\n",
    "ConductivityMin = numpy.min(dataset.Conductivity)\n",
    "ConductivityMax = numpy.max(dataset.Conductivity)\n",
    "ConductivityRange = ConductivityMax-ConductivityMin\n",
    "ConductivityQ1 = numpy.quantile(dataset.Conductivity,0.25)\n",
    "ConductivityQ2 = numpy.quantile(dataset.Conductivity,0.5)\n",
    "ConductivityQ3 = numpy.quantile(dataset.Conductivity,0.75)\n",
    "ConductivityIQR = ConductivityQ3 - ConductivityQ1\n",
    "ConductivitySkew = scipy.stats.skew(dataset.Conductivity)\n",
    "ConductivityKurtosis = scipy.stats.kurtosis(dataset.Conductivity)\n",
    "\n",
    "print(\"mean: \" + str(ConductivityMean))\n",
    "print(\"median: \" + str(ConductivityMedian))\n",
    "print(\"modus: \" + str(ConductivityModus))\n",
    "print(\"standard deviation: \" + str(ConductivitySTD))\n",
    "print(\"variance: \" + str(ConductivityVariance))\n",
    "print(\"min: \" + str(ConductivityMin))\n",
    "print(\"max: \" + str(ConductivityMax))\n",
    "print(\"range: \" + str(ConductivityRange))\n",
    "print(\"Q1: \" + str(ConductivityQ1))\n",
    "print(\"Q2: \" + str(ConductivityQ2))\n",
    "print(\"Q3: \" + str(ConductivityQ3))\n",
    "print(\"IQR: \" + str(ConductivityIQR))\n",
    "print(\"Skew: \" + str(ConductivitySkew))\n",
    "print(\"Kurtosis: \" + str(ConductivityKurtosis))\n",
    "\n",
    "temp, histogram_Conductivity = plt.subplots(1,1)\n",
    "histogram_Conductivity.hist(dataset.Conductivity)\n",
    "histogram_Conductivity.set_xlabel(\"Conductivity\")\n",
    "histogram_Conductivity.set_ylabel(\"amount\")\n",
    "plt.show();\n",
    "\n",
    "temp, boxplot_Conductivity = plt.subplots(1,1)\n",
    "boxplot_Conductivity.boxplot(dataset.Conductivity)\n",
    "boxplot_Conductivity.set_ylabel(\"Conductivity\")\n",
    "plt.show();\n",
    "\n",
    "#data Conductivity tidak memiliki distribusi normal karena memiliki nilai skew yang besar"
   ]
  },
  {
   "cell_type": "code",
   "execution_count": 63,
   "metadata": {},
   "outputs": [
    {
     "name": "stdout",
     "output_type": "stream",
     "text": [
      "mean: 14.357939902048088\n",
      "median: 14.323285610653329\n",
      "modus: ModeResult(mode=array([2.2]), count=array([1]))\n",
      "standard deviation: 3.32494259280379\n",
      "variance: 11.05524324544079\n",
      "min: 2.1999999999999886\n",
      "max: 27.00670661116601\n",
      "range: 24.80670661116602\n",
      "Q1: 12.122530374047727\n",
      "Q2: 14.323285610653329\n",
      "Q3: 16.683561746173808\n",
      "IQR: 4.561031372126081\n",
      "Skew: -0.02020466379237664\n",
      "Kurtosis: 0.02795769149333216\n"
     ]
    },
    {
     "data": {
      "image/png": "[encoded data removed]",
      "text/plain": [
       "<Figure size 432x288 with 1 Axes>"
      ]
     },
     "metadata": {
      "needs_background": "light"
     },
     "output_type": "display_data"
    },
    {
     "data": {
      "image/png": "[encoded data removed]",
      "text/plain": [
       "<Figure size 432x288 with 1 Axes>"
      ]
     },
     "metadata": {
      "needs_background": "light"
     },
     "output_type": "display_data"
    }
   ],
   "source": [
    "OrganicCarbonMean = numpy.mean(dataset.OrganicCarbon)\n",
    "OrganicCarbonMedian = numpy.median(dataset.OrganicCarbon)\n",
    "OrganicCarbonModus = scipy.stats.mode(dataset.OrganicCarbon)\n",
    "OrganicCarbonSTD = numpy.std(dataset.OrganicCarbon)\n",
    "OrganicCarbonVariance = numpy.var(dataset.OrganicCarbon)\n",
    "OrganicCarbonMin = numpy.min(dataset.OrganicCarbon)\n",
    "OrganicCarbonMax = numpy.max(dataset.OrganicCarbon)\n",
    "OrganicCarbonRange = OrganicCarbonMax-OrganicCarbonMin\n",
    "OrganicCarbonQ1 = numpy.quantile(dataset.OrganicCarbon,0.25)\n",
    "OrganicCarbonQ2 = numpy.quantile(dataset.OrganicCarbon,0.5)\n",
    "OrganicCarbonQ3 = numpy.quantile(dataset.OrganicCarbon,0.75)\n",
    "OrganicCarbonIQR = OrganicCarbonQ3 - OrganicCarbonQ1\n",
    "OrganicCarbonSkew = scipy.stats.skew(dataset.OrganicCarbon)\n",
    "OrganicCarbonKurtosis = scipy.stats.kurtosis(dataset.OrganicCarbon)\n",
    "\n",
    "print(\"mean: \" + str(OrganicCarbonMean))\n",
    "print(\"median: \" + str(OrganicCarbonMedian))\n",
    "print(\"modus: \" + str(OrganicCarbonModus))\n",
    "print(\"standard deviation: \" + str(OrganicCarbonSTD))\n",
    "print(\"variance: \" + str(OrganicCarbonVariance))\n",
    "print(\"min: \" + str(OrganicCarbonMin))\n",
    "print(\"max: \" + str(OrganicCarbonMax))\n",
    "print(\"range: \" + str(OrganicCarbonRange))\n",
    "print(\"Q1: \" + str(OrganicCarbonQ1))\n",
    "print(\"Q2: \" + str(OrganicCarbonQ2))\n",
    "print(\"Q3: \" + str(OrganicCarbonQ3))\n",
    "print(\"IQR: \" + str(OrganicCarbonIQR))\n",
    "print(\"Skew: \" + str(OrganicCarbonSkew))\n",
    "print(\"Kurtosis: \" + str(OrganicCarbonKurtosis))\n",
    "\n",
    "temp, histogram_OrganicCarbon = plt.subplots(1,1)\n",
    "histogram_OrganicCarbon.hist(dataset.OrganicCarbon)\n",
    "histogram_OrganicCarbon.set_xlabel(\"OrganicCarbon\")\n",
    "histogram_OrganicCarbon.set_ylabel(\"amount\")\n",
    "plt.show();\n",
    "\n",
    "temp, boxplot_OrganicCarbon = plt.subplots(1,1)\n",
    "boxplot_OrganicCarbon.boxplot(dataset.OrganicCarbon)\n",
    "boxplot_OrganicCarbon.set_ylabel(\"OrganicCarbon\")\n",
    "plt.show();\n",
    "\n",
    "#data OrganicCarbon memiliki distribusi normal karena nilai skew dan kurtosis mendekati 0 "
   ]
  },
  {
   "cell_type": "code",
   "execution_count": 64,
   "metadata": {},
   "outputs": [
    {
     "name": "stdout",
     "output_type": "stream",
     "text": [
      "mean: 66.40071666307463\n",
      "median: 66.48204080309809\n",
      "modus: ModeResult(mode=array([8.57701293]), count=array([1]))\n",
      "standard deviation: 16.077108208788328\n",
      "variance: 258.473408357089\n",
      "min: 8.577012932983806\n",
      "max: 124.0\n",
      "range: 115.4229870670162\n",
      "Q1: 55.94999302803186\n",
      "Q2: 66.48204080309809\n",
      "Q3: 77.2946128060674\n",
      "IQR: 21.344619778035543\n",
      "Skew: -0.051344331277615854\n",
      "Kurtosis: 0.21947880896670435\n"
     ]
    },
    {
     "data": {
      "image/png": "[encoded data removed]",
      "text/plain": [
       "<Figure size 432x288 with 1 Axes>"
      ]
     },
     "metadata": {
      "needs_background": "light"
     },
     "output_type": "display_data"
    },
    {
     "data": {
      "image/png": "[encoded data removed]",
      "text/plain": [
       "<Figure size 432x288 with 1 Axes>"
      ]
     },
     "metadata": {
      "needs_background": "light"
     },
     "output_type": "display_data"
    }
   ],
   "source": [
    "TrihalomethanesMean = numpy.mean(dataset.Trihalomethanes)\n",
    "TrihalomethanesMedian = numpy.median(dataset.Trihalomethanes)\n",
    "TrihalomethanesModus = scipy.stats.mode(dataset.Trihalomethanes)\n",
    "TrihalomethanesSTD = numpy.std(dataset.Trihalomethanes)\n",
    "TrihalomethanesVariance = numpy.var(dataset.Trihalomethanes)\n",
    "TrihalomethanesMin = numpy.min(dataset.Trihalomethanes)\n",
    "TrihalomethanesMax = numpy.max(dataset.Trihalomethanes)\n",
    "TrihalomethanesRange = TrihalomethanesMax-TrihalomethanesMin\n",
    "TrihalomethanesQ1 = numpy.quantile(dataset.Trihalomethanes,0.25)\n",
    "TrihalomethanesQ2 = numpy.quantile(dataset.Trihalomethanes,0.5)\n",
    "TrihalomethanesQ3 = numpy.quantile(dataset.Trihalomethanes,0.75)\n",
    "TrihalomethanesIQR = TrihalomethanesQ3 - TrihalomethanesQ1\n",
    "TrihalomethanesSkew = scipy.stats.skew(dataset.Trihalomethanes)\n",
    "TrihalomethanesKurtosis = scipy.stats.kurtosis(dataset.Trihalomethanes)\n",
    "\n",
    "print(\"mean: \" + str(TrihalomethanesMean))\n",
    "print(\"median: \" + str(TrihalomethanesMedian))\n",
    "print(\"modus: \" + str(TrihalomethanesModus))\n",
    "print(\"standard deviation: \" + str(TrihalomethanesSTD))\n",
    "print(\"variance: \" + str(TrihalomethanesVariance))\n",
    "print(\"min: \" + str(TrihalomethanesMin))\n",
    "print(\"max: \" + str(TrihalomethanesMax))\n",
    "print(\"range: \" + str(TrihalomethanesRange))\n",
    "print(\"Q1: \" + str(TrihalomethanesQ1))\n",
    "print(\"Q2: \" + str(TrihalomethanesQ2))\n",
    "print(\"Q3: \" + str(TrihalomethanesQ3))\n",
    "print(\"IQR: \" + str(TrihalomethanesIQR))\n",
    "print(\"Skew: \" + str(TrihalomethanesSkew))\n",
    "print(\"Kurtosis: \" + str(TrihalomethanesKurtosis))\n",
    "\n",
    "temp, histogram_Trihalomethanes = plt.subplots(1,1)\n",
    "histogram_Trihalomethanes.hist(dataset.Trihalomethanes)\n",
    "histogram_Trihalomethanes.set_xlabel(\"Trihalomethanes\")\n",
    "histogram_Trihalomethanes.set_ylabel(\"amount\")\n",
    "plt.show();\n",
    "\n",
    "temp, boxplot_Trihalomethanes = plt.subplots(1,1)\n",
    "boxplot_Trihalomethanes.boxplot(dataset.Trihalomethanes)\n",
    "boxplot_Trihalomethanes.set_ylabel(\"Trihalomethanes\")\n",
    "plt.show();\n",
    "\n",
    "#data Trihalomethanes memiliki distribusi normal karena nilai skew dan kurtosis mendekati 0 ???"
   ]
  },
  {
   "cell_type": "code",
   "execution_count": 65,
   "metadata": {},
   "outputs": [
    {
     "name": "stdout",
     "output_type": "stream",
     "text": [
      "mean: 3.969496912630371\n",
      "median: 3.967373963531836\n",
      "modus: ModeResult(mode=array([1.45]), count=array([1]))\n",
      "standard deviation: 0.7802768695296949\n",
      "variance: 0.6088319931230606\n",
      "min: 1.45\n",
      "max: 6.494748555990993\n",
      "range: 5.044748555990993\n",
      "Q1: 3.442881623557439\n",
      "Q2: 3.967373963531836\n",
      "Q3: 4.5146627202018825\n",
      "IQR: 1.0717810966444437\n",
      "Skew: -0.03224189559762075\n",
      "Kurtosis: -0.05269051630420529\n"
     ]
    },
    {
     "data": {
      "image/png": "[encoded data removed]",
      "text/plain": [
       "<Figure size 432x288 with 1 Axes>"
      ]
     },
     "metadata": {
      "needs_background": "light"
     },
     "output_type": "display_data"
    },
    {
     "data": {
      "image/png": "[encoded data removed]",
      "text/plain": [
       "<Figure size 432x288 with 1 Axes>"
      ]
     },
     "metadata": {
      "needs_background": "light"
     },
     "output_type": "display_data"
    }
   ],
   "source": [
    "TurbidityMean = numpy.mean(dataset.Turbidity)\n",
    "TurbidityMedian = numpy.median(dataset.Turbidity)\n",
    "TurbidityModus = scipy.stats.mode(dataset.Turbidity)\n",
    "TurbiditySTD = numpy.std(dataset.Turbidity)\n",
    "TurbidityVariance = numpy.var(dataset.Turbidity)\n",
    "TurbidityMin = numpy.min(dataset.Turbidity)\n",
    "TurbidityMax = numpy.max(dataset.Turbidity)\n",
    "TurbidityRange = TurbidityMax-TurbidityMin\n",
    "TurbidityQ1 = numpy.quantile(dataset.Turbidity,0.25)\n",
    "TurbidityQ2 = numpy.quantile(dataset.Turbidity,0.5)\n",
    "TurbidityQ3 = numpy.quantile(dataset.Turbidity,0.75)\n",
    "TurbidityIQR = TurbidityQ3 - TurbidityQ1\n",
    "TurbiditySkew = scipy.stats.skew(dataset.Turbidity)\n",
    "TurbidityKurtosis = scipy.stats.kurtosis(dataset.Turbidity)\n",
    "\n",
    "print(\"mean: \" + str(TurbidityMean))\n",
    "print(\"median: \" + str(TurbidityMedian))\n",
    "print(\"modus: \" + str(TurbidityModus))\n",
    "print(\"standard deviation: \" + str(TurbiditySTD))\n",
    "print(\"variance: \" + str(TurbidityVariance))\n",
    "print(\"min: \" + str(TurbidityMin))\n",
    "print(\"max: \" + str(TurbidityMax))\n",
    "print(\"range: \" + str(TurbidityRange))\n",
    "print(\"Q1: \" + str(TurbidityQ1))\n",
    "print(\"Q2: \" + str(TurbidityQ2))\n",
    "print(\"Q3: \" + str(TurbidityQ3))\n",
    "print(\"IQR: \" + str(TurbidityIQR))\n",
    "print(\"Skew: \" + str(TurbiditySkew))\n",
    "print(\"Kurtosis: \" + str(TurbidityKurtosis))\n",
    "\n",
    "temp, histogram_Turbidity = plt.subplots(1,1)\n",
    "histogram_Turbidity.hist(dataset.Turbidity)\n",
    "histogram_Turbidity.set_xlabel(\"Turbidity\")\n",
    "histogram_Turbidity.set_ylabel(\"amount\")\n",
    "plt.show();\n",
    "\n",
    "temp, boxplot_Turbidity = plt.subplots(1,1)\n",
    "boxplot_Turbidity.boxplot(dataset.Turbidity)\n",
    "boxplot_Turbidity.set_ylabel(\"Turbidity\")\n",
    "plt.show();\n",
    "\n",
    "#data Turbidity memiliki distribusi normal karena nilai skew dan kurtosis mendekati 0 "
   ]
  },
  {
   "cell_type": "code",
   "execution_count": 66,
   "metadata": {},
   "outputs": [
    {
     "name": "stdout",
     "output_type": "stream",
     "text": [
      "hasil nilai uji: 2.486063648110245\n",
      "hasil nilai p: 0.006498604504908631\n",
      "\n",
      "H0 ditolak\n"
     ]
    }
   ],
   "source": [
    "H0_pH = 7\n",
    "pH_result = pHMean\n",
    "alpha = 0.05\n",
    "totaldata = 2010\n",
    "nilai_kritis_pH = scipy.stats.t.ppf(q=1-alpha, df=totaldata)\n",
    "nilai_uji_pH = ((pH_result - H0_pH)/(pHSTD/math.sqrt(totaldata)))\n",
    "nilai_p_pH = scipy.stats.t.sf(abs(nilai_uji_pH), df=totaldata-1)\n",
    "\n",
    "print(\"hasil nilai uji: \" + str(nilai_uji_pH))\n",
    "print(\"hasil nilai p: \" + str(nilai_p_pH))\n",
    "print(\"\")\n",
    "\n",
    "if (nilai_uji_pH > nilai_kritis_pH and nilai_p_pH < alpha):\n",
    "    print(\"H0 ditolak\")\n",
    "else:\n",
    "    print(\"H0 diterima\")\n",
    "\n",
    "#jika H0 ditolak, maka rata-rata pH > 7\n",
    "#jika H0 diterima, maka rata-rata pH <= 7"
   ]
  },
  {
   "cell_type": "code",
   "execution_count": 67,
   "metadata": {},
   "outputs": [
    {
     "name": "stdout",
     "output_type": "stream",
     "text": [
      "hasil nilai uji: -12.406223679245638\n",
      "hasil nilai p: 4.148029129970065e-34\n",
      "\n",
      "H0 ditolak\n"
     ]
    }
   ],
   "source": [
    "H0_Hardness = 205 \n",
    "Hardness_result = HardnessMean\n",
    "alpha = 0.05\n",
    "totaldata = 2010\n",
    "nilai_kritis_Hardness = scipy.stats.t.ppf(q=1-alpha, df=totaldata)\n",
    "nilai_uji_Hardness = ((Hardness_result - H0_Hardness)/(HardnessSTD/math.sqrt(totaldata)))\n",
    "nilai_p_Hardness = (scipy.stats.t.sf(abs(nilai_uji_Hardness), df=totaldata-1)) * 2\n",
    "\n",
    "print(\"hasil nilai uji: \" + str(nilai_uji_Hardness))\n",
    "print(\"hasil nilai p: \" + str(nilai_p_Hardness))\n",
    "print(\"\")\n",
    "\n",
    "if ((nilai_uji_Hardness > nilai_kritis_Hardness or nilai_uji_Hardness < nilai_kritis_Hardness) and nilai_p_Hardness < alpha):\n",
    "    print(\"H0 ditolak\")\n",
    "else:\n",
    "    print(\"H0 diterima\")\n",
    "\n",
    "#jika H0 ditolak, maka rata-rata Hardness != 205\n",
    "#jika H0 diterima, maka rata-rata Hardness = 205"
   ]
  },
  {
   "cell_type": "code",
   "execution_count": 68,
   "metadata": {},
   "outputs": [
    {
     "name": "stdout",
     "output_type": "stream",
     "text": [
      "hasil nilai uji: 0.5665194861266858\n",
      "hasil nilai p: 0.5723227935487426\n",
      "\n",
      "H0 diterima\n"
     ]
    }
   ],
   "source": [
    "SolidsMean100 = numpy.mean(dataset.Solids[0:100])\n",
    "SolidsSTD100 = numpy.std(dataset.Solids[0:100])\n",
    "\n",
    "H0_Solids = 21900\n",
    "Solids_result = SolidsMean100\n",
    "alpha = 0.05\n",
    "totaldata = 100\n",
    "nilai_kritis_Solids = scipy.stats.t.ppf(q=1-alpha, df=totaldata)\n",
    "nilai_uji_Solids = ((Solids_result - H0_Solids)/(SolidsSTD100/math.sqrt(totaldata)))\n",
    "nilai_p_Solids = (scipy.stats.t.sf(abs(nilai_uji_Solids), df=totaldata-1)) * 2\n",
    "\n",
    "print(\"hasil nilai uji: \" + str(nilai_uji_Solids))\n",
    "print(\"hasil nilai p: \" + str(nilai_p_Solids))\n",
    "print(\"\")\n",
    "\n",
    "if ((nilai_uji_Solids > nilai_kritis_Solids or nilai_uji_Solids < nilai_kritis_Solids) and nilai_p_Solids < alpha):\n",
    "    print(\"H0 ditolak\")\n",
    "else:\n",
    "    print(\"H0 diterima\")\n",
    "\n",
    "#jika H0 ditolak, maka rata-rata Solids != 21900\n",
    "#jika H0 diterima, maka rata-rata Solids = 21900"
   ]
  },
  {
   "cell_type": "code",
   "execution_count": 69,
   "metadata": {},
   "outputs": [
    {
     "name": "stdout",
     "output_type": "stream",
     "text": [
      "hasil nilai p: 1.6079309478998523e-229\n",
      "\n",
      "H0 ditolak\n"
     ]
    }
   ],
   "source": [
    "H0_Conductivity = 0.1\n",
    "alpha = 0.05\n",
    "totaldata = 2010\n",
    "nilai_p_Conductivity = (scipy.stats.binom.pmf(dataset.Conductivity[dataset.Conductivity > 450].count(), totaldata, H0_Conductivity))*2 \n",
    "\n",
    "print(\"hasil nilai p: \" + str(nilai_p_Conductivity))\n",
    "print(\"\")\n",
    "\n",
    "if (nilai_p_Conductivity < alpha):\n",
    "    print(\"H0 ditolak\")\n",
    "else:\n",
    "    print(\"H0 diterima\")\n",
    "\n",
    "#jika H0 ditolak, proporsi Conductivity != 0.1\n",
    "#jika H0 ditetrima, proporsi Conductivity = 0.1"
   ]
  },
  {
   "cell_type": "code",
   "execution_count": 70,
   "metadata": {},
   "outputs": [
    {
     "name": "stdout",
     "output_type": "stream",
     "text": [
      "hasil nilai p: 0.03404367379225386\n",
      "\n",
      "H0 ditolak\n"
     ]
    }
   ],
   "source": [
    "H0_Trihalomethanes = 0.05\n",
    "alpha = 0.05\n",
    "totaldata = 2010\n",
    "nilai_p_Trihalomethanes = (scipy.stats.binom.pmf(dataset.Trihalomethanes[dataset.Trihalomethanes < 40].count(), totaldata, H0_Trihalomethanes)) \n",
    "\n",
    "print(\"hasil nilai p: \" + str(nilai_p_Trihalomethanes))\n",
    "print(\"\")\n",
    "\n",
    "if (nilai_p_Trihalomethanes < alpha):\n",
    "    print(\"H0 ditolak\")\n",
    "else:\n",
    "    print(\"H0 diterima\")\n",
    "\n",
    "#jika H0 ditolak, proporsi Trihalomethanes >= 0.05\n",
    "#jika H0 diterima, proporsi Trihalomethanes < 0.05"
   ]
  }
 ],
 "metadata": {
  "interpreter": {
   "hash": "07efdcd4b820c98a756949507a4d29d7862823915ec7477944641bea022f4f62"
  },
  "kernelspec": {
   "display_name": "Python 3.8.8 ('base')",
   "language": "python",
   "name": "python3"
  },
  "language_info": {
   "codemirror_mode": {
    "name": "ipython",
    "version": 3
   },
   "file_extension": ".py",
   "mimetype": "text/x-python",
   "name": "python",
   "nbconvert_exporter": "python",
   "pygments_lexer": "ipython3",
   "version": "3.8.8"
  },
  "orig_nbformat": 4
 },
 "nbformat": 4,
 "nbformat_minor": 2
}
