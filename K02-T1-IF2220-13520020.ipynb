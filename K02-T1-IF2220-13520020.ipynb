{
 "cells": [
  {
   "cell_type": "code",
   "execution_count": 47,
   "metadata": {},
   "outputs": [
    {
     "name": "stdout",
     "output_type": "stream",
     "text": [
      "        id         pH    Hardness        Solids  Chloramines     Sulfate  \\\n",
      "0        1   8.316766  214.373394  22018.417441     8.059332  356.886136   \n",
      "1        2   9.092223  181.101509  17978.986339     6.546600  310.135738   \n",
      "2        3   5.584087  188.313324  28748.687739     7.544869  326.678363   \n",
      "3        4  10.223862  248.071735  28749.716544     7.513408  393.663396   \n",
      "4        5   8.635849  203.361523  13672.091764     4.563009  303.309771   \n",
      "...    ...        ...         ...           ...          ...         ...   \n",
      "2005  2006   8.197353  203.105091  27701.794055     6.472914  328.886838   \n",
      "2006  2007   8.989900  215.047358  15921.412018     6.297312  312.931022   \n",
      "2007  2008   6.702547  207.321086  17246.920347     7.708117  304.510230   \n",
      "2008  2009  11.491011   94.812545  37188.826022     9.263166  258.930600   \n",
      "2009  2010   6.069616  186.659040  26138.780191     7.747547  345.700257   \n",
      "\n",
      "      Conductivity  OrganicCarbon  Trihalomethanes  Turbidity  Potability  \n",
      "0       363.266516      18.436524       100.341674   4.628771           0  \n",
      "1       398.410813      11.558279        31.997993   4.075075           0  \n",
      "2       280.467916       8.399735        54.917862   2.559708           0  \n",
      "3       283.651634      13.789695        84.603556   2.672989           0  \n",
      "4       474.607645      12.363817        62.798309   4.401425           0  \n",
      "...            ...            ...              ...        ...         ...  \n",
      "2005    444.612724      14.250875        62.906205   3.361833           1  \n",
      "2006    390.410231       9.899115        55.069304   4.613843           1  \n",
      "2007    329.266002      16.217303        28.878601   3.442983           1  \n",
      "2008    439.893618      16.172755        41.558501   4.369264           1  \n",
      "2009    415.886955      12.067620        60.419921   3.669712           1  \n",
      "\n",
      "[2010 rows x 11 columns]\n"
     ]
    }
   ],
   "source": [
    "#Tugas Besar Probabilitas dan Statistika IF2220\n",
    "#Dibuat oleh:\n",
    "#13520020 William Manuel Kurniawan\n",
    "#13520110 Farrel Ahmad\n",
    "\n",
    "import pandas as pd\n",
    "import numpy\n",
    "import scipy\n",
    "from scipy import stats\n",
    "import matplotlib.pyplot as plt\n",
    "import math\n",
    "\n",
    "#file csv awal ditambahkan dengan:\n",
    "#id,pH,Hardness,Solids,Chloramines,Sulfate,Conductivity,OrganicCarbon,\n",
    "#Trihalomethanes,Turbidity,Potability \n",
    "#pada baris pertama file agar data lebih mudah diakses\n",
    "\n",
    "dataset = pd.read_csv(\"water_potability.csv\")\n",
    "print(dataset)"
   ]
  },
  {
   "cell_type": "code",
   "execution_count": 48,
   "metadata": {},
   "outputs": [
    {
     "name": "stdout",
     "output_type": "stream",
     "text": [
      "pH mean: 7.0871927687138205\n",
      "pH median: 7.0294904554741855\n",
      "pH modus: 0.2274990502021987 ; Jumlah Kemunculan = 1\n",
      "pH standard deviation: 1.572411653857112\n",
      "pH variance: 2.4724784091856584\n",
      "pH min: 0.2274990502021987\n",
      "pH max: 13.999999999999998\n",
      "pH range: 13.7725009497978\n",
      "pH Q1: 6.09078502142353\n",
      "pH Q2: 7.0294904554741855\n",
      "pH Q3: 8.053006240791538\n",
      "pH IQR: 1.9622212193680078\n",
      "pH Skew: 0.04849828675523678\n",
      "pH Kurtosis: 0.6223621582163492\n"
     ]
    },
    {
     "data": {
      "image/png": "[encoded data removed]",
      "text/plain": [
       "<Figure size 432x288 with 1 Axes>"
      ]
     },
     "metadata": {
      "needs_background": "light"
     },
     "output_type": "display_data"
    },
    {
     "data": {
      "image/png": "[encoded data removed]",
      "text/plain": [
       "<Figure size 432x288 with 1 Axes>"
      ]
     },
     "metadata": {
      "needs_background": "light"
     },
     "output_type": "display_data"
    }
   ],
   "source": [
    "#Mengerjakan no 1, 2 dan 3 untuk kolom data pH\n",
    "\n",
    "# Descriptive Statistics Data\n",
    "pHMean = numpy.mean(dataset.pH)\n",
    "pHMedian = numpy.median(dataset.pH)\n",
    "pHModus = scipy.stats.mode(dataset.pH)\n",
    "pHSTD = numpy.std(dataset.pH)\n",
    "pHVariance = numpy.var(dataset.pH)\n",
    "pHMin = numpy.min(dataset.pH)\n",
    "pHMax = numpy.max(dataset.pH)\n",
    "pHRange = pHMax-pHMin\n",
    "pHQ1 = numpy.quantile(dataset.pH,0.25)\n",
    "pHQ2 = numpy.quantile(dataset.pH,0.5)\n",
    "pHQ3 = numpy.quantile(dataset.pH,0.75)\n",
    "pHIQR = pHQ3 - pHQ1\n",
    "pHSkew = scipy.stats.skew(dataset.pH)\n",
    "pHKurtosis = scipy.stats.kurtosis(dataset.pH)\n",
    "\n",
    "print(\"pH mean: \" + str(pHMean))\n",
    "print(\"pH median: \" + str(pHMedian))\n",
    "print(\"pH modus: \" + str(pHModus[0][0]) + \" ; Jumlah Kemunculan = \"+str(pHModus[1][0]))\n",
    "print(\"pH standard deviation: \" + str(pHSTD))\n",
    "print(\"pH variance: \" + str(pHVariance))\n",
    "print(\"pH min: \" + str(pHMin))\n",
    "print(\"pH max: \" + str(pHMax))\n",
    "print(\"pH range: \" + str(pHRange))\n",
    "print(\"pH Q1: \" + str(pHQ1))\n",
    "print(\"pH Q2: \" + str(pHQ2))\n",
    "print(\"pH Q3: \" + str(pHQ3))\n",
    "print(\"pH IQR: \" + str(pHIQR))\n",
    "print(\"pH Skew: \" + str(pHSkew))\n",
    "print(\"pH Kurtosis: \" + str(pHKurtosis))\n",
    "\n",
    "temp, histogram_pH = plt.subplots(1,1)\n",
    "histogram_pH.hist(dataset.pH)\n",
    "histogram_pH.set_xlabel(\"pH\")\n",
    "histogram_pH.set_ylabel(\"amount\")\n",
    "plt.show();\n",
    "\n",
    "temp, boxplot_pH = plt.subplots(1,1)\n",
    "boxplot_pH.boxplot(dataset.pH)\n",
    "boxplot_pH.set_ylabel(\"pH\")\n",
    "plt.show();\n",
    "\n",
    "#harus melakukan pengecekan data skew dan kurtosis untuk melihat jika data memiliki normal distribution\n",
    "#nilai skew dan kurtosis harus mendekati 0\n",
    "#(nilai kurtosis mengikuti definisi fisher sehingga hasil akhir kurtosis pada hasil print kurtosis sudah dikurangi 3)\n",
    "#(untuk menentukan normal distribution, skew memiliki besar maksimum 0.05 dan kurtosis memiliki besar maksimum 0.3)\n",
    "\n",
    "#data pH tidak memiliki distribusi normal karena memiliki nilai kurtosis yang besar\n",
    "#jika dilihat dari histogram, bagian tengah histogram jauh lebih tinggi daripada bagian sekitar dan naik secara drastis sehingga tidak memiliki distribusi normal"
   ]
  },
  {
   "cell_type": "code",
   "execution_count": 49,
   "metadata": {},
   "outputs": [
    {
     "name": "stdout",
     "output_type": "stream",
     "text": [
      "Hardness mean: 195.96920903783553\n",
      "Hardness median: 197.20352491941043\n",
      "Hardness modus: 73.4922336890611 ; Jumlah kemunculan = 1\n",
      "Hardness standard deviation: 32.63504465869229\n",
      "Hardness variance: 1065.0461398748398\n",
      "Hardness min: 73.4922336890611\n",
      "Hardness max: 317.33812405558257\n",
      "Hardness range: 243.84589036652147\n",
      "Hardness Q1: 176.74065667669896\n",
      "Hardness Q2: 197.20352491941043\n",
      "Hardness Q3: 216.4475886672716\n",
      "Hardness IQR: 39.70693199057263\n",
      "Hardness Skew: -0.08525735610579517\n",
      "Hardness Kurtosis: 0.5211906487769773\n"
     ]
    },
    {
     "data": {
      "image/png": "[encoded data removed]",
      "text/plain": [
       "<Figure size 432x288 with 1 Axes>"
      ]
     },
     "metadata": {
      "needs_background": "light"
     },
     "output_type": "display_data"
    },
    {
     "data": {
      "image/png": "[encoded data removed]",
      "text/plain": [
       "<Figure size 432x288 with 1 Axes>"
      ]
     },
     "metadata": {
      "needs_background": "light"
     },
     "output_type": "display_data"
    }
   ],
   "source": [
    "#Mengerjakan no 1, 2, dan 3 untuk kolom data Hardness\n",
    "\n",
    "# Descriptive Statistics Data\n",
    "HardnessMean = numpy.mean(dataset.Hardness)\n",
    "HardnessMedian = numpy.median(dataset.Hardness)\n",
    "HardnessModus = scipy.stats.mode(dataset.Hardness)\n",
    "HardnessSTD = numpy.std(dataset.Hardness)\n",
    "HardnessVariance = numpy.var(dataset.Hardness)\n",
    "HardnessMin = numpy.min(dataset.Hardness)\n",
    "HardnessMax = numpy.max(dataset.Hardness)\n",
    "HardnessRange = HardnessMax-HardnessMin\n",
    "HardnessQ1 = numpy.quantile(dataset.Hardness,0.25)\n",
    "HardnessQ2 = numpy.quantile(dataset.Hardness,0.5)\n",
    "HardnessQ3 = numpy.quantile(dataset.Hardness,0.75)\n",
    "HardnessIQR = HardnessQ3 - HardnessQ1\n",
    "HardnessSkew = scipy.stats.skew(dataset.Hardness)\n",
    "HardnessKurtosis = scipy.stats.kurtosis(dataset.Hardness)\n",
    "\n",
    "print(\"Hardness mean: \" + str(HardnessMean))\n",
    "print(\"Hardness median: \" + str(HardnessMedian))\n",
    "print(\"Hardness modus: \" + str(HardnessModus[0][0]) +\" ; Jumlah kemunculan = \" + str(HardnessModus[1][0]))\n",
    "print(\"Hardness standard deviation: \" + str(HardnessSTD))\n",
    "print(\"Hardness variance: \" + str(HardnessVariance))\n",
    "print(\"Hardness min: \" + str(HardnessMin))\n",
    "print(\"Hardness max: \" + str(HardnessMax))\n",
    "print(\"Hardness range: \" + str(HardnessRange))\n",
    "print(\"Hardness Q1: \" + str(HardnessQ1))\n",
    "print(\"Hardness Q2: \" + str(HardnessQ2))\n",
    "print(\"Hardness Q3: \" + str(HardnessQ3))\n",
    "print(\"Hardness IQR: \" + str(HardnessIQR))\n",
    "print(\"Hardness Skew: \" + str(HardnessSkew))\n",
    "print(\"Hardness Kurtosis: \" + str(HardnessKurtosis))\n",
    "\n",
    "temp, histogram_Hardness = plt.subplots(1,1)\n",
    "histogram_Hardness.hist(dataset.Hardness)\n",
    "histogram_Hardness.set_xlabel(\"Hardness\")\n",
    "histogram_Hardness.set_ylabel(\"amount\")\n",
    "plt.show();\n",
    "\n",
    "temp, boxplot_Hardness = plt.subplots(1,1)\n",
    "boxplot_Hardness.boxplot(dataset.Hardness)\n",
    "boxplot_Hardness.set_ylabel(\"Hardness\")\n",
    "plt.show();\n",
    "\n",
    "#nilai skewness mendekati 0 tetapi nilai kurtosis tidak mendekati 0 (definisi fisher) dan berbentuk leptokurtic (kurtosis > 0)\n",
    "#data Hardness tidak memiliki distribusi normal karena memiliki nilai kurtosis yang besar\n",
    "#jika dilihat dari histogram, bagian tengah histogram jauh lebih tinggi daripada bagian sekitar dan naik secara drastis sehingga tidak memiliki distribusi normal"
   ]
  },
  {
   "cell_type": "code",
   "execution_count": 50,
   "metadata": {},
   "outputs": [
    {
     "name": "stdout",
     "output_type": "stream",
     "text": [
      "Solids mean: 21904.673439053087\n",
      "Solids median: 20926.88215534375\n",
      "Solids modus: 320.942611274359 ; Jumlah kemunculan = 1\n",
      "Solids standard deviation: 8623.2520228849\n",
      "Solids variance: 74360475.45018852\n",
      "Solids min: 320.942611274359\n",
      "Solids max: 56488.672412739186\n",
      "Solids range: 56167.729801464826\n",
      "Solids Q1: 15614.412961614333\n",
      "Solids Q2: 20926.88215534375\n",
      "Solids Q3: 27170.5346486036\n",
      "Solids IQR: 11556.121686989267\n",
      "Solids Skew: 0.5905702277342098\n",
      "Solids Kurtosis: 0.333498156306705\n"
     ]
    },
    {
     "data": {
      "image/png": "[encoded data removed]",
      "text/plain": [
       "<Figure size 432x288 with 1 Axes>"
      ]
     },
     "metadata": {
      "needs_background": "light"
     },
     "output_type": "display_data"
    },
    {
     "data": {
      "image/png": "[encoded data removed]",
      "text/plain": [
       "<Figure size 432x288 with 1 Axes>"
      ]
     },
     "metadata": {
      "needs_background": "light"
     },
     "output_type": "display_data"
    }
   ],
   "source": [
    "#Mengerjakan no 2 dan 3 untuk kolom data Solids\n",
    "\n",
    "SolidsMean = numpy.mean(dataset.Solids)\n",
    "SolidsMedian = numpy.median(dataset.Solids)\n",
    "SolidsModus = scipy.stats.mode(dataset.Solids)\n",
    "SolidsSTD = numpy.std(dataset.Solids)\n",
    "SolidsVariance = numpy.var(dataset.Solids)\n",
    "SolidsMin = numpy.min(dataset.Solids)\n",
    "SolidsMax = numpy.max(dataset.Solids)\n",
    "SolidsRange = SolidsMax-SolidsMin\n",
    "SolidsQ1 = numpy.quantile(dataset.Solids,0.25)\n",
    "SolidsQ2 = numpy.quantile(dataset.Solids,0.5)\n",
    "SolidsQ3 = numpy.quantile(dataset.Solids,0.75)\n",
    "SolidsIQR = SolidsQ3 - SolidsQ1\n",
    "SolidsSkew = scipy.stats.skew(dataset.Solids)\n",
    "SolidsKurtosis = scipy.stats.kurtosis(dataset.Solids)\n",
    "\n",
    "print(\"Solids mean: \" + str(SolidsMean))\n",
    "print(\"Solids median: \" + str(SolidsMedian))\n",
    "print(\"Solids modus: \" + str(SolidsModus[0][0]) +\" ; Jumlah kemunculan = \" + str(SolidsModus[1][0]))\n",
    "print(\"Solids standard deviation: \" + str(SolidsSTD))\n",
    "print(\"Solids variance: \" + str(SolidsVariance))\n",
    "print(\"Solids min: \" + str(SolidsMin))\n",
    "print(\"Solids max: \" + str(SolidsMax))\n",
    "print(\"Solids range: \" + str(SolidsRange))\n",
    "print(\"Solids Q1: \" + str(SolidsQ1))\n",
    "print(\"Solids Q2: \" + str(SolidsQ2))\n",
    "print(\"Solids Q3: \" + str(SolidsQ3))\n",
    "print(\"Solids IQR: \" + str(SolidsIQR))\n",
    "print(\"Solids Skew: \" + str(SolidsSkew))\n",
    "print(\"Solids Kurtosis: \" + str(SolidsKurtosis))\n",
    "\n",
    "temp, histogram_Solids = plt.subplots(1,1)\n",
    "histogram_Solids.hist(dataset.Solids)\n",
    "histogram_Solids.set_xlabel(\"Solids\")\n",
    "histogram_Solids.set_ylabel(\"amount\")\n",
    "plt.show();\n",
    "\n",
    "temp, boxplot_Solids = plt.subplots(1,1)\n",
    "boxplot_Solids.boxplot(dataset.Solids)\n",
    "boxplot_Solids.set_ylabel(\"Solids\")\n",
    "plt.show();\n",
    "\n",
    "#Syarat distribusi normal : skewness mendekati 0 dan kurtosis mendekati 0 (definisi fisher)\n",
    "#nilai skewness tidak mendekati 0 (positive skew)\n",
    "#nilai kurtosis tidak mendekati 0 (definisi fisher) dan berbentuk leptokurtic (kurtosis > 0)\n",
    "#data Solids tidak memiliki distribusi normal karena memiliki nilai skew yang besar\n",
    "#jika dilihat dari histogram, bagian paling tinggi histogram berada di bagian kiri gambar dan tidak di tengah sehingga tidak memiliki distribusi normal"
   ]
  },
  {
   "cell_type": "code",
   "execution_count": 51,
   "metadata": {},
   "outputs": [
    {
     "name": "stdout",
     "output_type": "stream",
     "text": [
      "Chloramines mean: 7.134322344600092\n",
      "Chloramines median: 7.142014304622665\n",
      "Chloramines modus: 1.3908709048851806 ; Jumlah kemunculan = 1\n",
      "Chloramines standard deviation: 1.5848197173405132\n",
      "Chloramines variance: 2.511653536471264\n",
      "Chloramines min: 1.3908709048851806\n",
      "Chloramines max: 13.127000000000002\n",
      "Chloramines range: 11.736129095114823\n",
      "Chloramines Q1: 6.138326387572855\n",
      "Chloramines Q2: 7.142014304622665\n",
      "Chloramines Q3: 8.109933216133502\n",
      "Chloramines IQR: 1.9716068285606472\n",
      "Chloramines Skew: 0.012993791664418162\n",
      "Chloramines Kurtosis: 0.5454318545555785\n"
     ]
    },
    {
     "data": {
      "image/png": "[encoded data removed]",
      "text/plain": [
       "<Figure size 432x288 with 1 Axes>"
      ]
     },
     "metadata": {
      "needs_background": "light"
     },
     "output_type": "display_data"
    },
    {
     "data": {
      "image/png": "[encoded data removed]",
      "text/plain": [
       "<Figure size 432x288 with 1 Axes>"
      ]
     },
     "metadata": {
      "needs_background": "light"
     },
     "output_type": "display_data"
    }
   ],
   "source": [
    "#Mengerjakan no 2 dan 3 untuk kolom data Chloramines\n",
    "\n",
    "ChloraminesMean = numpy.mean(dataset.Chloramines)\n",
    "ChloraminesMedian = numpy.median(dataset.Chloramines)\n",
    "ChloraminesModus = scipy.stats.mode(dataset.Chloramines)\n",
    "ChloraminesSTD = numpy.std(dataset.Chloramines)\n",
    "ChloraminesVariance = numpy.var(dataset.Chloramines)\n",
    "ChloraminesMin = numpy.min(dataset.Chloramines)\n",
    "ChloraminesMax = numpy.max(dataset.Chloramines)\n",
    "ChloraminesRange = ChloraminesMax-ChloraminesMin\n",
    "ChloraminesQ1 = numpy.quantile(dataset.Chloramines,0.25)\n",
    "ChloraminesQ2 = numpy.quantile(dataset.Chloramines,0.5)\n",
    "ChloraminesQ3 = numpy.quantile(dataset.Chloramines,0.75)\n",
    "ChloraminesIQR = ChloraminesQ3 - ChloraminesQ1\n",
    "ChloraminesSkew = scipy.stats.skew(dataset.Chloramines)\n",
    "ChloraminesKurtosis = scipy.stats.kurtosis(dataset.Chloramines)\n",
    "\n",
    "print(\"Chloramines mean: \" + str(ChloraminesMean))\n",
    "print(\"Chloramines median: \" + str(ChloraminesMedian))\n",
    "print(\"Chloramines modus: \" + str(ChloraminesModus[0][0]) +\" ; Jumlah kemunculan = \" + str(ChloraminesModus[1][0]))\n",
    "print(\"Chloramines standard deviation: \" + str(ChloraminesSTD))\n",
    "print(\"Chloramines variance: \" + str(ChloraminesVariance))\n",
    "print(\"Chloramines min: \" + str(ChloraminesMin))\n",
    "print(\"Chloramines max: \" + str(ChloraminesMax))\n",
    "print(\"Chloramines range: \" + str(ChloraminesRange))\n",
    "print(\"Chloramines Q1: \" + str(ChloraminesQ1))\n",
    "print(\"Chloramines Q2: \" + str(ChloraminesQ2))\n",
    "print(\"Chloramines Q3: \" + str(ChloraminesQ3))\n",
    "print(\"Chloramines IQR: \" + str(ChloraminesIQR))\n",
    "print(\"Chloramines Skew: \" + str(ChloraminesSkew))\n",
    "print(\"Chloramines Kurtosis: \" + str(ChloraminesKurtosis))\n",
    "\n",
    "temp, histogram_Chloramines = plt.subplots(1,1)\n",
    "histogram_Chloramines.hist(dataset.Chloramines)\n",
    "histogram_Chloramines.set_xlabel(\"Chloramines\")\n",
    "histogram_Chloramines.set_ylabel(\"amount\")\n",
    "plt.show();\n",
    "\n",
    "temp, boxplot_Chloramines = plt.subplots(1,1)\n",
    "boxplot_Chloramines.boxplot(dataset.Chloramines)\n",
    "boxplot_Chloramines.set_ylabel(\"Chloramines\")\n",
    "plt.show();\n",
    "\n",
    "#Syarat distribusi normal : skewness mendekati 0 dan kurtosis mendekati 0 (definisi fisher)\n",
    "#nilai skewness mendekati 0 \n",
    "#nilai kurtosis tidak mendekati 0 (definisi fisher) dan berbentuk leptokurtic (kurtosis > 0)\n",
    "#data Chloramines tidak memiliki distribusi normal karena memiliki nilai kurtosis yang besar\n",
    "#jika dilihat dari histogram, bagian tengah histogram jauh lebih tinggi daripada bagian sekitar dan naik secara drastis sehingga tidak memiliki distribusi normal"
   ]
  },
  {
   "cell_type": "code",
   "execution_count": 52,
   "metadata": {},
   "outputs": [
    {
     "name": "stdout",
     "output_type": "stream",
     "text": [
      "Sulfate mean: 333.21137641518925\n",
      "Sulfate median: 332.2141128069568\n",
      "Sulfate modus: 129.00000000000003 ; Jumlah kemunculan = 1\n",
      "Sulfate standard deviation: 41.20085823007217\n",
      "Sulfate variance: 1697.5107188945055\n",
      "Sulfate min: 129.00000000000003\n",
      "Sulfate max: 481.03064230599716\n",
      "Sulfate range: 352.03064230599716\n",
      "Sulfate Q1: 307.6269864860709\n",
      "Sulfate Q2: 332.2141128069568\n",
      "Sulfate Q3: 359.2681473914155\n",
      "Sulfate IQR: 51.64116090534458\n",
      "Sulfate Skew: -0.04569367213282733\n",
      "Sulfate Kurtosis: 0.7819149219038852\n"
     ]
    },
    {
     "data": {
      "image/png": "[encoded data removed]",
      "text/plain": [
       "<Figure size 432x288 with 1 Axes>"
      ]
     },
     "metadata": {
      "needs_background": "light"
     },
     "output_type": "display_data"
    },
    {
     "data": {
      "image/png": "[encoded data removed]",
      "text/plain": [
       "<Figure size 432x288 with 1 Axes>"
      ]
     },
     "metadata": {
      "needs_background": "light"
     },
     "output_type": "display_data"
    }
   ],
   "source": [
    "#Mengerjakan no 2 dan 3 untuk kolom data Sulfate\n",
    "\n",
    "SulfateMean = numpy.mean(dataset.Sulfate)\n",
    "SulfateMedian = numpy.median(dataset.Sulfate)\n",
    "SulfateModus = scipy.stats.mode(dataset.Sulfate)\n",
    "SulfateSTD = numpy.std(dataset.Sulfate)\n",
    "SulfateVariance = numpy.var(dataset.Sulfate)\n",
    "SulfateMin = numpy.min(dataset.Sulfate)\n",
    "SulfateMax = numpy.max(dataset.Sulfate)\n",
    "SulfateRange = SulfateMax-SulfateMin\n",
    "SulfateQ1 = numpy.quantile(dataset.Sulfate,0.25)\n",
    "SulfateQ2 = numpy.quantile(dataset.Sulfate,0.5)\n",
    "SulfateQ3 = numpy.quantile(dataset.Sulfate,0.75)\n",
    "SulfateIQR = SulfateQ3 - SulfateQ1\n",
    "SulfateSkew = scipy.stats.skew(dataset.Sulfate)\n",
    "SulfateKurtosis = scipy.stats.kurtosis(dataset.Sulfate)\n",
    "\n",
    "print(\"Sulfate mean: \" + str(SulfateMean))\n",
    "print(\"Sulfate median: \" + str(SulfateMedian))\n",
    "print(\"Sulfate modus: \" + str(SulfateModus[0][0]) +\" ; Jumlah kemunculan = \" + str(SulfateModus[1][0]))\n",
    "print(\"Sulfate standard deviation: \" + str(SulfateSTD))\n",
    "print(\"Sulfate variance: \" + str(SulfateVariance))\n",
    "print(\"Sulfate min: \" + str(SulfateMin))\n",
    "print(\"Sulfate max: \" + str(SulfateMax))\n",
    "print(\"Sulfate range: \" + str(SulfateRange))\n",
    "print(\"Sulfate Q1: \" + str(SulfateQ1))\n",
    "print(\"Sulfate Q2: \" + str(SulfateQ2))\n",
    "print(\"Sulfate Q3: \" + str(SulfateQ3))\n",
    "print(\"Sulfate IQR: \" + str(SulfateIQR))\n",
    "print(\"Sulfate Skew: \" + str(SulfateSkew))\n",
    "print(\"Sulfate Kurtosis: \" + str(SulfateKurtosis))\n",
    "\n",
    "temp, histogram_Sulfate = plt.subplots(1,1)\n",
    "histogram_Sulfate.hist(dataset.Sulfate)\n",
    "histogram_Sulfate.set_xlabel(\"Sulfate\")\n",
    "histogram_Sulfate.set_ylabel(\"amount\")\n",
    "plt.show();\n",
    "\n",
    "temp, boxplot_Sulfate = plt.subplots(1,1)\n",
    "boxplot_Sulfate.boxplot(dataset.Sulfate)\n",
    "boxplot_Sulfate.set_ylabel(\"Sulfate\")\n",
    "plt.show();\n",
    "\n",
    "#Syarat distribusi normal : skewness mendekati 0 dan kurtosis mendekati 0 (definisi fisher)\n",
    "#nilai skewness mendekati 0\n",
    "#nilai kurtosis tidak mendekati 0 (definisi fisher) dan berbentuk leptokurtic (kurtosis > 0)\n",
    "#data Sulfate tidak memiliki distribusi normal karena memiliki nilai kurtosis yang besar\n",
    "#jika dilihat dari histogram, bagian tengah histogram jauh lebih tinggi daripada bagian sekitar\n",
    "#bentuk histogram juga tidak terlihat simetris"
   ]
  },
  {
   "cell_type": "code",
   "execution_count": 53,
   "metadata": {},
   "outputs": [
    {
     "name": "stdout",
     "output_type": "stream",
     "text": [
      "Conductivity mean: 426.4767083525792\n",
      "Conductivity median: 423.43837202443706\n",
      "Conductivity modus: 201.6197367551575 ; Jumlah kemunculan = 1\n",
      "Conductivity standard deviation: 80.68179421728163\n",
      "Conductivity variance: 6509.55191811978\n",
      "Conductivity min: 201.6197367551575\n",
      "Conductivity max: 753.3426195583046\n",
      "Conductivity range: 551.7228828031471\n",
      "Conductivity Q1: 366.6192192963244\n",
      "Conductivity Q2: 423.43837202443706\n",
      "Conductivity Q3: 482.2097724598859\n",
      "Conductivity IQR: 115.59055316356154\n",
      "Conductivity Skew: 0.26781228234697924\n",
      "Conductivity Kurtosis: -0.2395999421551358\n"
     ]
    },
    {
     "data": {
      "image/png": "[encoded data removed]",
      "text/plain": [
       "<Figure size 432x288 with 1 Axes>"
      ]
     },
     "metadata": {
      "needs_background": "light"
     },
     "output_type": "display_data"
    },
    {
     "data": {
      "image/png": "[encoded data removed]",
      "text/plain": [
       "<Figure size 432x288 with 1 Axes>"
      ]
     },
     "metadata": {
      "needs_background": "light"
     },
     "output_type": "display_data"
    }
   ],
   "source": [
    "#Mengerjakan no 2 dan 3 untuk kolom data Conductivity\n",
    "\n",
    "ConductivityMean = numpy.mean(dataset.Conductivity)\n",
    "ConductivityMedian = numpy.median(dataset.Conductivity)\n",
    "ConductivityModus = scipy.stats.mode(dataset.Conductivity)\n",
    "ConductivitySTD = numpy.std(dataset.Conductivity)\n",
    "ConductivityVariance = numpy.var(dataset.Conductivity)\n",
    "ConductivityMin = numpy.min(dataset.Conductivity)\n",
    "ConductivityMax = numpy.max(dataset.Conductivity)\n",
    "ConductivityRange = ConductivityMax-ConductivityMin\n",
    "ConductivityQ1 = numpy.quantile(dataset.Conductivity,0.25)\n",
    "ConductivityQ2 = numpy.quantile(dataset.Conductivity,0.5)\n",
    "ConductivityQ3 = numpy.quantile(dataset.Conductivity,0.75)\n",
    "ConductivityIQR = ConductivityQ3 - ConductivityQ1\n",
    "ConductivitySkew = scipy.stats.skew(dataset.Conductivity)\n",
    "ConductivityKurtosis = scipy.stats.kurtosis(dataset.Conductivity)\n",
    "\n",
    "print(\"Conductivity mean: \" + str(ConductivityMean))\n",
    "print(\"Conductivity median: \" + str(ConductivityMedian))\n",
    "print(\"Conductivity modus: \" + str(ConductivityModus[0][0]) +\" ; Jumlah kemunculan = \" + str(ConductivityModus[1][0]))\n",
    "print(\"Conductivity standard deviation: \" + str(ConductivitySTD))\n",
    "print(\"Conductivity variance: \" + str(ConductivityVariance))\n",
    "print(\"Conductivity min: \" + str(ConductivityMin))\n",
    "print(\"Conductivity max: \" + str(ConductivityMax))\n",
    "print(\"Conductivity range: \" + str(ConductivityRange))\n",
    "print(\"Conductivity Q1: \" + str(ConductivityQ1))\n",
    "print(\"Conductivity Q2: \" + str(ConductivityQ2))\n",
    "print(\"Conductivity Q3: \" + str(ConductivityQ3))\n",
    "print(\"Conductivity IQR: \" + str(ConductivityIQR))\n",
    "print(\"Conductivity Skew: \" + str(ConductivitySkew))\n",
    "print(\"Conductivity Kurtosis: \" + str(ConductivityKurtosis))\n",
    "\n",
    "temp, histogram_Conductivity = plt.subplots(1,1)\n",
    "histogram_Conductivity.hist(dataset.Conductivity)\n",
    "histogram_Conductivity.set_xlabel(\"Conductivity\")\n",
    "histogram_Conductivity.set_ylabel(\"amount\")\n",
    "plt.show();\n",
    "\n",
    "temp, boxplot_Conductivity = plt.subplots(1,1)\n",
    "boxplot_Conductivity.boxplot(dataset.Conductivity)\n",
    "boxplot_Conductivity.set_ylabel(\"Conductivity\")\n",
    "plt.show();\n",
    "\n",
    "#Syarat distribusi normal : skewness mendekati 0 dan kurtosis mendekati 0 (definisi fisher)\n",
    "#nilai skewness tidak mendekati 0 (positive skew)\n",
    "#nilai kurtosis tidak mendekati 0 (definisi fisher) dan berbentuk platykrutic (kurtosis < 0)\n",
    "#data Conductivity tidak memiliki distribusi normal karena memiliki nilai skew yang besar\n",
    "#jika dilihat dari histogram, bagian paling tinggi histogram berada di bagian kiri gambar dan tidak di tengah sehingga tidak memiliki distribusi normal"
   ]
  },
  {
   "cell_type": "code",
   "execution_count": 54,
   "metadata": {},
   "outputs": [
    {
     "name": "stdout",
     "output_type": "stream",
     "text": [
      "OrganicCarbon mean: 14.357939902048088\n",
      "OrganicCarbon median: 14.323285610653329\n",
      "OrganicCarbon modus: 2.1999999999999886 ; Jumlah kemunculan = 1\n",
      "OrganicCarbon standard deviation: 3.3249425928037897\n",
      "OrganicCarbon variance: 11.055243245440789\n",
      "OrganicCarbon min: 2.1999999999999886\n",
      "OrganicCarbon max: 27.00670661116601\n",
      "OrganicCarbon range: 24.80670661116602\n",
      "OrganicCarbon Q1: 12.122530374047729\n",
      "OrganicCarbon Q2: 14.323285610653329\n",
      "OrganicCarbon Q3: 16.683561746173808\n",
      "OrganicCarbon IQR: 4.561031372126079\n",
      "OrganicCarbon Skew: -0.020204663792376603\n",
      "OrganicCarbon Kurtosis: 0.027957691493330827\n"
     ]
    },
    {
     "data": {
      "image/png": "[encoded data removed]",
      "text/plain": [
       "<Figure size 432x288 with 1 Axes>"
      ]
     },
     "metadata": {
      "needs_background": "light"
     },
     "output_type": "display_data"
    },
    {
     "data": {
      "image/png": "[encoded data removed]",
      "text/plain": [
       "<Figure size 432x288 with 1 Axes>"
      ]
     },
     "metadata": {
      "needs_background": "light"
     },
     "output_type": "display_data"
    }
   ],
   "source": [
    "#Mengerjakan no 2 dan 3 untuk kolom data OrganicCarbon\n",
    "\n",
    "OrganicCarbonMean = numpy.mean(dataset.OrganicCarbon)\n",
    "OrganicCarbonMedian = numpy.median(dataset.OrganicCarbon)\n",
    "OrganicCarbonModus = scipy.stats.mode(dataset.OrganicCarbon)\n",
    "OrganicCarbonSTD = numpy.std(dataset.OrganicCarbon)\n",
    "OrganicCarbonVariance = numpy.var(dataset.OrganicCarbon)\n",
    "OrganicCarbonMin = numpy.min(dataset.OrganicCarbon)\n",
    "OrganicCarbonMax = numpy.max(dataset.OrganicCarbon)\n",
    "OrganicCarbonRange = OrganicCarbonMax-OrganicCarbonMin\n",
    "OrganicCarbonQ1 = numpy.quantile(dataset.OrganicCarbon,0.25)\n",
    "OrganicCarbonQ2 = numpy.quantile(dataset.OrganicCarbon,0.5)\n",
    "OrganicCarbonQ3 = numpy.quantile(dataset.OrganicCarbon,0.75)\n",
    "OrganicCarbonIQR = OrganicCarbonQ3 - OrganicCarbonQ1\n",
    "OrganicCarbonSkew = scipy.stats.skew(dataset.OrganicCarbon)\n",
    "OrganicCarbonKurtosis = scipy.stats.kurtosis(dataset.OrganicCarbon)\n",
    "\n",
    "print(\"OrganicCarbon mean: \" + str(OrganicCarbonMean))\n",
    "print(\"OrganicCarbon median: \" + str(OrganicCarbonMedian))\n",
    "print(\"OrganicCarbon modus: \" + str(OrganicCarbonModus[0][0]) +\" ; Jumlah kemunculan = \" + str(OrganicCarbonModus[1][0]))\n",
    "print(\"OrganicCarbon standard deviation: \" + str(OrganicCarbonSTD))\n",
    "print(\"OrganicCarbon variance: \" + str(OrganicCarbonVariance))\n",
    "print(\"OrganicCarbon min: \" + str(OrganicCarbonMin))\n",
    "print(\"OrganicCarbon max: \" + str(OrganicCarbonMax))\n",
    "print(\"OrganicCarbon range: \" + str(OrganicCarbonRange))\n",
    "print(\"OrganicCarbon Q1: \" + str(OrganicCarbonQ1))\n",
    "print(\"OrganicCarbon Q2: \" + str(OrganicCarbonQ2))\n",
    "print(\"OrganicCarbon Q3: \" + str(OrganicCarbonQ3))\n",
    "print(\"OrganicCarbon IQR: \" + str(OrganicCarbonIQR))\n",
    "print(\"OrganicCarbon Skew: \" + str(OrganicCarbonSkew))\n",
    "print(\"OrganicCarbon Kurtosis: \" + str(OrganicCarbonKurtosis))\n",
    "\n",
    "temp, histogram_OrganicCarbon = plt.subplots(1,1)\n",
    "histogram_OrganicCarbon.hist(dataset.OrganicCarbon)\n",
    "histogram_OrganicCarbon.set_xlabel(\"OrganicCarbon\")\n",
    "histogram_OrganicCarbon.set_ylabel(\"amount\")\n",
    "plt.show();\n",
    "\n",
    "temp, boxplot_OrganicCarbon = plt.subplots(1,1)\n",
    "boxplot_OrganicCarbon.boxplot(dataset.OrganicCarbon)\n",
    "boxplot_OrganicCarbon.set_ylabel(\"OrganicCarbon\")\n",
    "plt.show();\n",
    "\n",
    "#Syarat distribusi normal : skewness mendekati 0 dan kurtosis mendekati 0 (definisi fisher)\n",
    "#nilai skewness mendekati 0\n",
    "#nilai kurtosis mendekati 0 \n",
    "#data OrganicCarbon memiliki distribusi normal karena nilai skew dan kurtosis mendekati 0\n",
    "#jika dilihat di histogram, bagian paling tinggi berada di tengah, tinggi bagian tengah tidak terlalu drastis dibandingkan dengan data disampingnya "
   ]
  },
  {
   "cell_type": "code",
   "execution_count": 55,
   "metadata": {},
   "outputs": [
    {
     "name": "stdout",
     "output_type": "stream",
     "text": [
      "Trihalomethanes mean: 66.40071666307463\n",
      "Trihalomethanes median: 66.48204080309809\n",
      "Trihalomethanes modus: 8.577012932983806 ; Jumlah kemunculan = 1\n",
      "Trihalomethanes standard deviation: 16.077108208788328\n",
      "Trihalomethanes variance: 258.473408357089\n",
      "Trihalomethanes min: 8.577012932983806\n",
      "Trihalomethanes max: 124.0\n",
      "Trihalomethanes range: 115.4229870670162\n",
      "Trihalomethanes Q1: 55.94999302803187\n",
      "Trihalomethanes Q2: 66.48204080309809\n",
      "Trihalomethanes Q3: 77.29461280606742\n",
      "Trihalomethanes IQR: 21.34461977803555\n",
      "Trihalomethanes Skew: -0.05134433127761586\n",
      "Trihalomethanes Kurtosis: 0.21947880896670524\n"
     ]
    },
    {
     "data": {
      "image/png": "[encoded data removed]",
      "text/plain": [
       "<Figure size 432x288 with 1 Axes>"
      ]
     },
     "metadata": {
      "needs_background": "light"
     },
     "output_type": "display_data"
    },
    {
     "data": {
      "image/png": "[encoded data removed]",
      "text/plain": [
       "<Figure size 432x288 with 1 Axes>"
      ]
     },
     "metadata": {
      "needs_background": "light"
     },
     "output_type": "display_data"
    }
   ],
   "source": [
    "#Mengerjakan no 2 dan 3 untuk kolom data Trihalomethanes\n",
    "\n",
    "TrihalomethanesMean = numpy.mean(dataset.Trihalomethanes)\n",
    "TrihalomethanesMedian = numpy.median(dataset.Trihalomethanes)\n",
    "TrihalomethanesModus = scipy.stats.mode(dataset.Trihalomethanes)\n",
    "TrihalomethanesSTD = numpy.std(dataset.Trihalomethanes)\n",
    "TrihalomethanesVariance = numpy.var(dataset.Trihalomethanes)\n",
    "TrihalomethanesMin = numpy.min(dataset.Trihalomethanes)\n",
    "TrihalomethanesMax = numpy.max(dataset.Trihalomethanes)\n",
    "TrihalomethanesRange = TrihalomethanesMax-TrihalomethanesMin\n",
    "TrihalomethanesQ1 = numpy.quantile(dataset.Trihalomethanes,0.25)\n",
    "TrihalomethanesQ2 = numpy.quantile(dataset.Trihalomethanes,0.5)\n",
    "TrihalomethanesQ3 = numpy.quantile(dataset.Trihalomethanes,0.75)\n",
    "TrihalomethanesIQR = TrihalomethanesQ3 - TrihalomethanesQ1\n",
    "TrihalomethanesSkew = scipy.stats.skew(dataset.Trihalomethanes)\n",
    "TrihalomethanesKurtosis = scipy.stats.kurtosis(dataset.Trihalomethanes)\n",
    "\n",
    "print(\"Trihalomethanes mean: \" + str(TrihalomethanesMean))\n",
    "print(\"Trihalomethanes median: \" + str(TrihalomethanesMedian))\n",
    "print(\"Trihalomethanes modus: \" + str(TrihalomethanesModus[0][0]) +\" ; Jumlah kemunculan = \" + str(TrihalomethanesModus[1][0]))\n",
    "print(\"Trihalomethanes standard deviation: \" + str(TrihalomethanesSTD))\n",
    "print(\"Trihalomethanes variance: \" + str(TrihalomethanesVariance))\n",
    "print(\"Trihalomethanes min: \" + str(TrihalomethanesMin))\n",
    "print(\"Trihalomethanes max: \" + str(TrihalomethanesMax))\n",
    "print(\"Trihalomethanes range: \" + str(TrihalomethanesRange))\n",
    "print(\"Trihalomethanes Q1: \" + str(TrihalomethanesQ1))\n",
    "print(\"Trihalomethanes Q2: \" + str(TrihalomethanesQ2))\n",
    "print(\"Trihalomethanes Q3: \" + str(TrihalomethanesQ3))\n",
    "print(\"Trihalomethanes IQR: \" + str(TrihalomethanesIQR))\n",
    "print(\"Trihalomethanes Skew: \" + str(TrihalomethanesSkew))\n",
    "print(\"Trihalomethanes Kurtosis: \" + str(TrihalomethanesKurtosis))\n",
    "\n",
    "temp, histogram_Trihalomethanes = plt.subplots(1,1)\n",
    "histogram_Trihalomethanes.hist(dataset.Trihalomethanes)\n",
    "histogram_Trihalomethanes.set_xlabel(\"Trihalomethanes\")\n",
    "histogram_Trihalomethanes.set_ylabel(\"amount\")\n",
    "plt.show();\n",
    "\n",
    "temp, boxplot_Trihalomethanes = plt.subplots(1,1)\n",
    "boxplot_Trihalomethanes.boxplot(dataset.Trihalomethanes)\n",
    "boxplot_Trihalomethanes.set_ylabel(\"Trihalomethanes\")\n",
    "plt.show();\n",
    "\n",
    "#Syarat distribusi normal : skewness mendekati 0 dan kurtosis mendekati 0 (definisi fisher)\n",
    "#nilai skewness mendekati 0\n",
    "#nilai kurtosis tidak mendekati 0 (definisi fisher) dan berbentuk leptokurtic (kurtosis > 0)\n",
    "#data Trihalomethanes tidak berdistribusi normal karena nilai skew dan kurtosis mendekati 0\n",
    "#jika dilihat di histogram, bagian paling tinggi berada di tengah, tinggi bagian tengah relatif drastis dibandingkan dengan data disampingnya\n",
    "#berdasarkan perhitungan kurtosis"
   ]
  },
  {
   "cell_type": "code",
   "execution_count": 56,
   "metadata": {},
   "outputs": [
    {
     "name": "stdout",
     "output_type": "stream",
     "text": [
      "Turbidity mean: 3.969496912630371\n",
      "Turbidity median: 3.967373963531836\n",
      "Turbidity modus: 1.45 ; Jumlah kemunculan = 1\n",
      "Turbidity standard deviation: 0.780276869529695\n",
      "Turbidity variance: 0.6088319931230607\n",
      "Turbidity min: 1.45\n",
      "Turbidity max: 6.494748555990991\n",
      "Turbidity range: 5.044748555990991\n",
      "Turbidity Q1: 3.4428816235574393\n",
      "Turbidity Q2: 3.967373963531836\n",
      "Turbidity Q3: 4.514662720201883\n",
      "Turbidity IQR: 1.071781096644444\n",
      "Turbidity Skew: -0.03224189559762099\n",
      "Turbidity Kurtosis: -0.052690516304206625\n"
     ]
    },
    {
     "data": {
      "image/png": "[encoded data removed]",
      "text/plain": [
       "<Figure size 432x288 with 1 Axes>"
      ]
     },
     "metadata": {
      "needs_background": "light"
     },
     "output_type": "display_data"
    },
    {
     "data": {
      "image/png": "[encoded data removed]",
      "text/plain": [
       "<Figure size 432x288 with 1 Axes>"
      ]
     },
     "metadata": {
      "needs_background": "light"
     },
     "output_type": "display_data"
    }
   ],
   "source": [
    "#Mengerjakan no 2 dan 3 untuk kolom data Turbidity\n",
    "\n",
    "TurbidityMean = numpy.mean(dataset.Turbidity)\n",
    "TurbidityMedian = numpy.median(dataset.Turbidity)\n",
    "TurbidityModus = scipy.stats.mode(dataset.Turbidity)\n",
    "TurbiditySTD = numpy.std(dataset.Turbidity)\n",
    "TurbidityVariance = numpy.var(dataset.Turbidity)\n",
    "TurbidityMin = numpy.min(dataset.Turbidity)\n",
    "TurbidityMax = numpy.max(dataset.Turbidity)\n",
    "TurbidityRange = TurbidityMax-TurbidityMin\n",
    "TurbidityQ1 = numpy.quantile(dataset.Turbidity,0.25)\n",
    "TurbidityQ2 = numpy.quantile(dataset.Turbidity,0.5)\n",
    "TurbidityQ3 = numpy.quantile(dataset.Turbidity,0.75)\n",
    "TurbidityIQR = TurbidityQ3 - TurbidityQ1\n",
    "TurbiditySkew = scipy.stats.skew(dataset.Turbidity)\n",
    "TurbidityKurtosis = scipy.stats.kurtosis(dataset.Turbidity)\n",
    "\n",
    "print(\"Turbidity mean: \" + str(TurbidityMean))\n",
    "print(\"Turbidity median: \" + str(TurbidityMedian))\n",
    "print(\"Turbidity modus: \" + str(TurbidityModus[0][0]) +\" ; Jumlah kemunculan = \" + str(TurbidityModus[1][0]))\n",
    "print(\"Turbidity standard deviation: \" + str(TurbiditySTD))\n",
    "print(\"Turbidity variance: \" + str(TurbidityVariance))\n",
    "print(\"Turbidity min: \" + str(TurbidityMin))\n",
    "print(\"Turbidity max: \" + str(TurbidityMax))\n",
    "print(\"Turbidity range: \" + str(TurbidityRange))\n",
    "print(\"Turbidity Q1: \" + str(TurbidityQ1))\n",
    "print(\"Turbidity Q2: \" + str(TurbidityQ2))\n",
    "print(\"Turbidity Q3: \" + str(TurbidityQ3))\n",
    "print(\"Turbidity IQR: \" + str(TurbidityIQR))\n",
    "print(\"Turbidity Skew: \" + str(TurbiditySkew))\n",
    "print(\"Turbidity Kurtosis: \" + str(TurbidityKurtosis))\n",
    "\n",
    "temp, histogram_Turbidity = plt.subplots(1,1)\n",
    "histogram_Turbidity.hist(dataset.Turbidity)\n",
    "histogram_Turbidity.set_xlabel(\"Turbidity\")\n",
    "histogram_Turbidity.set_ylabel(\"amount\")\n",
    "plt.show();\n",
    "\n",
    "temp, boxplot_Turbidity = plt.subplots(1,1)\n",
    "boxplot_Turbidity.boxplot(dataset.Turbidity)\n",
    "boxplot_Turbidity.set_ylabel(\"Turbidity\")\n",
    "plt.show();\n",
    "\n",
    "#Syarat distribusi normal : skewness mendekati 0 dan kurtosis mendekati 0 (definisi fisher)\n",
    "#nilai skewness mendekati 0\n",
    "#nilai kurtosis mendekati 0\n",
    "#data Turbidity memiliki distribusi normal karena nilai skew dan kurtosis mendekati 0\n",
    "#jika dilihat di histogram, bagian paling tinggi berada di tengah, tinggi bagian tengah tidak terlalu drastis dibandingkan dengan data disampingnya "
   ]
  },
  {
   "cell_type": "code",
   "execution_count": 57,
   "metadata": {},
   "outputs": [
    {
     "name": "stdout",
     "output_type": "stream",
     "text": [
      "nilai kritis: 1.6456124504017113\n",
      "hasil nilai uji: 2.486063648110245\n",
      "hasil nilai p: 0.006498604504908631\n",
      "H0 ditolak\n"
     ]
    },
    {
     "data": {
      "image/png": "[encoded data removed]",
      "text/plain": [
       "<Figure size 432x288 with 1 Axes>"
      ]
     },
     "metadata": {
      "needs_background": "light"
     },
     "output_type": "display_data"
    }
   ],
   "source": [
    "#Nomor 4a\n",
    "\n",
    "H0_pH = 7\n",
    "pH_result = pHMean\n",
    "alpha = 0.05\n",
    "totaldata = 2010\n",
    "nilai_kritis_pH = scipy.stats.t.ppf(q=1-alpha, df=totaldata-1)\n",
    "nilai_uji_pH = ((pH_result - H0_pH)/(pHSTD/math.sqrt(totaldata)))\n",
    "nilai_p_pH = scipy.stats.t.sf(abs(nilai_uji_pH), df=totaldata-1)\n",
    "\n",
    "print(\"nilai kritis: \" + str(nilai_kritis_pH))\n",
    "print(\"hasil nilai uji: \" + str(nilai_uji_pH))\n",
    "print(\"hasil nilai p: \" + str(nilai_p_pH))\n",
    "\n",
    "if (nilai_uji_pH > nilai_kritis_pH or nilai_p_pH < alpha):\n",
    "    print(\"H0 ditolak\")\n",
    "else:\n",
    "    print(\"H0 diterima\")\n",
    "\n",
    "#jika H0 ditolak, maka rata-rata pH > 7\n",
    "\n",
    "plt.boxplot(dataset.pH)\n",
    "plt.show()"
   ]
  },
  {
   "cell_type": "code",
   "execution_count": 58,
   "metadata": {},
   "outputs": [
    {
     "name": "stdout",
     "output_type": "stream",
     "text": [
      "nilai kritis: 1.9611455060885261\n",
      "hasil nilai uji: -12.406223679245638\n",
      "hasil nilai p: 4.148029129970065e-34\n",
      "H0 ditolak\n"
     ]
    },
    {
     "data": {
      "image/png": "[encoded data removed]",
      "text/plain": [
       "<Figure size 432x288 with 1 Axes>"
      ]
     },
     "metadata": {
      "needs_background": "light"
     },
     "output_type": "display_data"
    }
   ],
   "source": [
    "#Nomor 4b\n",
    "\n",
    "H0_Hardness = 205 \n",
    "Hardness_result = HardnessMean\n",
    "alpha = 0.05\n",
    "totaldata = 2010\n",
    "nilai_kritis_Hardness = scipy.stats.t.ppf(q=1-(alpha/2), df=totaldata-1)\n",
    "nilai_uji_Hardness = ((Hardness_result - H0_Hardness)/(HardnessSTD/math.sqrt(totaldata)))\n",
    "nilai_p_Hardness = (scipy.stats.t.sf(abs(nilai_uji_Hardness), df=totaldata-1)) * 2\n",
    "\n",
    "print(\"nilai kritis: \" + str(nilai_kritis_Hardness))\n",
    "print(\"hasil nilai uji: \" + str(nilai_uji_Hardness))\n",
    "print(\"hasil nilai p: \" + str(nilai_p_Hardness))\n",
    "\n",
    "if ((nilai_uji_Hardness > nilai_kritis_Hardness or nilai_uji_Hardness < -1*nilai_kritis_Hardness) or nilai_p_Hardness < alpha):\n",
    "    print(\"H0 ditolak\")\n",
    "else:\n",
    "    print(\"H0 diterima\")\n",
    "\n",
    "#H0 ditolak, maka rata-rata Hardness != 205\n",
    "\n",
    "plt.boxplot(dataset.Hardness)\n",
    "plt.show()"
   ]
  },
  {
   "cell_type": "code",
   "execution_count": 59,
   "metadata": {},
   "outputs": [
    {
     "name": "stdout",
     "output_type": "stream",
     "text": [
      "nilai kritis: 1.9842169515086827\n",
      "hasil nilai uji: 0.5665194861266858\n",
      "hasil nilai p: 0.5723227935487426\n",
      "H0 diterima\n"
     ]
    },
    {
     "data": {
      "image/png": "[encoded data removed]",
      "text/plain": [
       "<Figure size 432x288 with 1 Axes>"
      ]
     },
     "metadata": {
      "needs_background": "light"
     },
     "output_type": "display_data"
    }
   ],
   "source": [
    "#Nomor 4c\n",
    "\n",
    "SolidsMean100 = numpy.mean(dataset.Solids[0:100])\n",
    "SolidsSTD100 = numpy.std(dataset.Solids[0:100])\n",
    "\n",
    "H0_Solids = 21900\n",
    "Solids_result = SolidsMean100\n",
    "alpha = 0.05\n",
    "totaldata = 100\n",
    "nilai_kritis_Solids = scipy.stats.t.ppf(q=1-(alpha/2), df=totaldata-1)\n",
    "nilai_uji_Solids = ((Solids_result - H0_Solids)/(SolidsSTD100/math.sqrt(totaldata)))\n",
    "nilai_p_Solids = (scipy.stats.t.sf(abs(nilai_uji_Solids), df=totaldata-1)) * 2\n",
    "\n",
    "print(\"nilai kritis: \" + str(nilai_kritis_Solids))\n",
    "print(\"hasil nilai uji: \" + str(nilai_uji_Solids))\n",
    "print(\"hasil nilai p: \" + str(nilai_p_Solids))\n",
    "\n",
    "if ((nilai_uji_Solids > nilai_kritis_Solids or nilai_uji_Solids < -1 * nilai_kritis_Solids) or nilai_p_Solids < alpha):\n",
    "    print(\"H0 ditolak\")\n",
    "else:\n",
    "    print(\"H0 diterima\")\n",
    "\n",
    "#karena nilai uji tidak berada di daerah kritis dan nilai p > 0.05 maka tidak cukup data untuk menolak H0\n",
    "\n",
    "plt.boxplot(dataset.Solids[0:100])\n",
    "plt.show()"
   ]
  },
  {
   "cell_type": "code",
   "execution_count": 60,
   "metadata": {},
   "outputs": [
    {
     "name": "stdout",
     "output_type": "stream",
     "text": [
      "nilai kritis: 1.6456124504017113\n",
      "hasil nilai uji: 1098.4090768015349\n",
      "hasil nilai p: 8.039654739499262e-230\n",
      "H0 ditolak\n"
     ]
    }
   ],
   "source": [
    "#Nomor 4d\n",
    "\n",
    "H0_Conductivity = 0.1\n",
    "Conductivity_result = dataset.Conductivity[dataset.Conductivity > 450].count()/totaldata\n",
    "alpha = 0.05\n",
    "totaldata = 2010\n",
    "q0_Conductivity = 1-H0_Conductivity\n",
    "nilai_kritis_Conductivity = scipy.stats.t.ppf(q=1-alpha, df=totaldata-1)\n",
    "nilai_uji_Conductivity = (Conductivity_result - H0_Conductivity)/math.sqrt(H0_Conductivity*q0_Conductivity/totaldata)\n",
    "nilai_p_Conductivity = (scipy.stats.binom.pmf(dataset.Conductivity[dataset.Conductivity > 450].count(), totaldata, H0_Conductivity))\n",
    "\n",
    "print(\"nilai kritis: \" + str(nilai_kritis_Conductivity))\n",
    "print(\"hasil nilai uji: \" + str(nilai_uji_Conductivity))\n",
    "print(\"hasil nilai p: \" + str(nilai_p_Conductivity))\n",
    "\n",
    "if ((nilai_uji_Conductivity > nilai_kritis_Conductivity or nilai_uji_Conductivity < -1*nilai_kritis_Conductivity) or nilai_p_Conductivity < alpha):\n",
    "    print(\"H0 ditolak\")\n",
    "else:\n",
    "    print(\"H0 diterima\")\n",
    "\n",
    "#H0 ditolak, maka proporsi Conductivity != 0.1"
   ]
  },
  {
   "cell_type": "code",
   "execution_count": 61,
   "metadata": {},
   "outputs": [
    {
     "name": "stdout",
     "output_type": "stream",
     "text": [
      "nilai kritis: 1.6456124504017113\n",
      "hasil nilai uji: 0.5628826416670951\n",
      "hasil nilai p: 0.03404367379225386\n",
      "H0 ditolak\n"
     ]
    }
   ],
   "source": [
    "#Nomor 4e\n",
    "\n",
    "H0_Trihalomethanes = 0.05\n",
    "Trihalomethanes_result = dataset.Trihalomethanes[dataset.Trihalomethanes < 40].count()/totaldata\n",
    "alpha = 0.05\n",
    "totaldata = 2010\n",
    "q0_Trihalomethanes = 1 - H0_Trihalomethanes\n",
    "nilai_kritis_Trihalomethanes = scipy.stats.t.ppf(q=1-alpha, df=totaldata-1)\n",
    "nilai_uji_Trihalomethanes = (Trihalomethanes_result - H0_Trihalomethanes)/math.sqrt(H0_Trihalomethanes*q0_Trihalomethanes/totaldata)\n",
    "nilai_p_Trihalomethanes = (scipy.stats.binom.pmf(dataset.Trihalomethanes[dataset.Trihalomethanes < 40].count(), totaldata, H0_Trihalomethanes)) \n",
    "\n",
    "print(\"nilai kritis: \" + str(nilai_kritis_Trihalomethanes))\n",
    "print(\"hasil nilai uji: \" + str(nilai_uji_Trihalomethanes))\n",
    "print(\"hasil nilai p: \" + str(nilai_p_Trihalomethanes))\n",
    "\n",
    "if ((nilai_uji_Trihalomethanes < nilai_kritis_Trihalomethanes) or nilai_p_Trihalomethanes < alpha):\n",
    "    print(\"H0 ditolak\")\n",
    "else:\n",
    "    print(\"H0 diterima\")\n",
    "\n",
    "#H0 ditolak, maka proporsi Trihalomethanes < 0.05"
   ]
  },
  {
   "cell_type": "code",
   "execution_count": 62,
   "metadata": {},
   "outputs": [
    {
     "name": "stdout",
     "output_type": "stream",
     "text": [
      "mean first half: 331.3053295054953\n",
      "mean second half: 335.11742332488234\n",
      "std first half: 41.31218591361096\n",
      "std second half: 41.00071588624226\n",
      "nilai kritis: 1.9611460948444246\n",
      "hasil nilai uji: -2.0785647605086353\n",
      "hasil nilai p: 0.03778395451096237\n",
      "H0 ditolak\n"
     ]
    },
    {
     "data": {
      "image/png": "[encoded data removed]",
      "text/plain": [
       "<Figure size 432x288 with 1 Axes>"
      ]
     },
     "metadata": {
      "needs_background": "light"
     },
     "output_type": "display_data"
    }
   ],
   "source": [
    "#Nomor 5a\n",
    "\n",
    "SulfateMean1 = numpy.mean(dataset.Sulfate[0:int(len(dataset.Sulfate)/2)])\n",
    "SulfateMean2 = numpy.mean(dataset.Sulfate[int(len(dataset.Sulfate)/2):len(dataset.Sulfate)])\n",
    "SulfateSTD1 = numpy.std(dataset.Sulfate[0:int(len(dataset.Sulfate)/2)])\n",
    "SulfateSTD2 = numpy.std(dataset.Sulfate[int(len(dataset.Sulfate)/2):len(dataset.Sulfate)])\n",
    "print(\"mean first half: \" + str(SulfateMean1))\n",
    "print(\"mean second half: \" + str(SulfateMean2))\n",
    "print(\"std first half: \" + str(SulfateSTD1))\n",
    "print(\"std second half: \" + str(SulfateSTD2))\n",
    "\n",
    "H0_Sulfate = 0\n",
    "Sulfate_result = SulfateMean1-SulfateMean2\n",
    "alpha = 0.05\n",
    "totaldata = 2010\n",
    "Sulfate_S12 = math.sqrt((((totaldata/2)-1) * (SulfateSTD1**2) + ((totaldata/2)-1) * (SulfateSTD2**2)) / totaldata-2)\n",
    "nilai_kritis_Sulfate = scipy.stats.t.ppf(q=1-(alpha/2), df=totaldata-2)\n",
    "nilai_uji_Sulfate = (Sulfate_result-H0_Sulfate)/(Sulfate_S12*math.sqrt((1/(totaldata/2)) + (1/(totaldata/2))))\n",
    "nilai_p_Sulfate = scipy.stats.t.sf(abs(nilai_uji_Sulfate), df=totaldata) * 2\n",
    "\n",
    "print(\"nilai kritis: \" + str(nilai_kritis_Sulfate))\n",
    "print(\"hasil nilai uji: \" + str(nilai_uji_Sulfate))\n",
    "print(\"hasil nilai p: \" + str(nilai_p_Sulfate))\n",
    "\n",
    "if ((nilai_uji_Sulfate > nilai_kritis_Sulfate or nilai_uji_Sulfate < -1*nilai_kritis_Sulfate) and nilai_p_Sulfate < alpha):\n",
    "    print(\"H0 ditolak\")\n",
    "else:\n",
    "    print(\"H0 diterima\")\n",
    "\n",
    "#H0 ditolak, maka SulfateMean1 != SulfateMean2\n",
    "\n",
    "data = [(dataset.Sulfate[0:int(len(dataset.Sulfate)/2)]),(dataset.Sulfate[int(len(dataset.Sulfate)/2):len(dataset.Sulfate)])]\n",
    "plt.boxplot(data)\n",
    "plt.show()\n"
   ]
  },
  {
   "cell_type": "code",
   "execution_count": 63,
   "metadata": {},
   "outputs": [
    {
     "name": "stdout",
     "output_type": "stream",
     "text": [
      "mean first half: 14.253972723723418\n",
      "mean second half: 14.461907080372763\n",
      "std first half: 3.3494944109867832\n",
      "std second half: 3.2969311993598382\n",
      "nilai kritis: 1.6456128284772815\n",
      "hasil nilai uji: -2.669590985872718\n",
      "hasil nilai p: 0.007655500515371852\n",
      "H0 ditolak\n"
     ]
    },
    {
     "data": {
      "image/png": "[encoded data removed]",
      "text/plain": [
       "<Figure size 432x288 with 1 Axes>"
      ]
     },
     "metadata": {
      "needs_background": "light"
     },
     "output_type": "display_data"
    }
   ],
   "source": [
    "#Nomor 5b\n",
    "\n",
    "OrganicCarbonMean1 = numpy.mean(dataset.OrganicCarbon[0:int(len(dataset.OrganicCarbon)/2)])\n",
    "OrganicCarbonMean2 = numpy.mean(dataset.OrganicCarbon[int(len(dataset.OrganicCarbon)/2):len(dataset.OrganicCarbon)])\n",
    "OrganicCarbonSTD1 = numpy.std(dataset.OrganicCarbon[0:int(len(dataset.OrganicCarbon)/2)])\n",
    "OrganicCarbonSTD2 = numpy.std(dataset.OrganicCarbon[int(len(dataset.OrganicCarbon)/2):len(dataset.OrganicCarbon)])\n",
    "print(\"mean first half: \" + str(OrganicCarbonMean1))\n",
    "print(\"mean second half: \" + str(OrganicCarbonMean2))\n",
    "print(\"std first half: \" + str(OrganicCarbonSTD1))\n",
    "print(\"std second half: \" + str(OrganicCarbonSTD2))\n",
    "\n",
    "H0_OrganicCarbon = 0.15\n",
    "OrganicCarbon_result = OrganicCarbonMean1-OrganicCarbonMean2\n",
    "alpha = 0.05\n",
    "totaldata = 2010\n",
    "OrganicCarbon_S12 = math.sqrt((((totaldata/2)-1) * (OrganicCarbonSTD1**2) + ((totaldata/2)-1) * (OrganicCarbonSTD2**2)) / totaldata-2)\n",
    "nilai_kritis_OrganicCarbon = scipy.stats.t.ppf(q=1-alpha, df=totaldata-2)\n",
    "nilai_uji_OrganicCarbon = (OrganicCarbon_result-H0_OrganicCarbon)/(OrganicCarbon_S12*math.sqrt((1/(totaldata/2)) + (1/(totaldata/2))))\n",
    "nilai_p_OrganicCarbon = scipy.stats.t.sf(abs(nilai_uji_OrganicCarbon), df=totaldata) * 2\n",
    "\n",
    "print(\"nilai kritis: \" + str(nilai_kritis_OrganicCarbon))\n",
    "print(\"hasil nilai uji: \" + str(nilai_uji_OrganicCarbon))\n",
    "print(\"hasil nilai p: \" + str(nilai_p_OrganicCarbon))\n",
    "\n",
    "if ((nilai_uji_OrganicCarbon > nilai_kritis_OrganicCarbon) or nilai_p_OrganicCarbon < alpha):\n",
    "    print(\"H0 ditolak\")\n",
    "else:\n",
    "    print(\"H0 diterima\")\n",
    "\n",
    "#H0 ditolak, maka bagian awal OrganicCarbon lebih besar dari bagian akhir OrganicCarbon\n",
    "#tetapi jika dilihat dari data, bagian awal OrganicCarbon lebih kecil dari bagian akhir OrganicCarbon\n",
    "\n",
    "data = [(dataset.OrganicCarbon[0:int(len(dataset.OrganicCarbon)/2)]), (dataset.OrganicCarbon[int(len(dataset.OrganicCarbon)/2):len(dataset.OrganicCarbon)])]\n",
    "plt.boxplot(data)\n",
    "plt.show()"
   ]
  },
  {
   "cell_type": "code",
   "execution_count": 64,
   "metadata": {},
   "outputs": [
    {
     "name": "stdout",
     "output_type": "stream",
     "text": [
      "mean first half: 7.007771140423916\n",
      "mean second half: 7.147197636249924\n",
      "std first half: 1.4734692281775799\n",
      "std second half: 1.300255877055854\n",
      "nilai kritis: 1.9720174778338955\n",
      "hasil nilai uji: -0.7094988920428581\n",
      "hasil nilai p: 0.47884959419258677\n",
      "H0 diterima\n"
     ]
    },
    {
     "data": {
      "image/png": "[encoded data removed]",
      "text/plain": [
       "<Figure size 432x288 with 1 Axes>"
      ]
     },
     "metadata": {
      "needs_background": "light"
     },
     "output_type": "display_data"
    }
   ],
   "source": [
    "#Nomor 5c\n",
    "\n",
    "ChloraminesMean1 = numpy.mean(dataset.Chloramines[0:100])\n",
    "ChloraminesMean2 = numpy.mean(dataset.Chloramines[int(len(dataset.Chloramines)-100):len(dataset.Chloramines)])\n",
    "ChloraminesSTD1 = numpy.std(dataset.Chloramines[0:100])\n",
    "ChloraminesSTD2 = numpy.std(dataset.Chloramines[int(len(dataset.Chloramines)-100):len(dataset.Chloramines)])\n",
    "print(\"mean first half: \" + str(ChloraminesMean1))\n",
    "print(\"mean second half: \" + str(ChloraminesMean2))\n",
    "print(\"std first half: \" + str(ChloraminesSTD1))\n",
    "print(\"std second half: \" + str(ChloraminesSTD2))\n",
    "\n",
    "H0_Chloramines = 0\n",
    "Chloramines_result = ChloraminesMean1-ChloraminesMean2\n",
    "alpha = 0.05\n",
    "totaldata = 200\n",
    "Chloramines_S12 = math.sqrt((((totaldata/2)-1) * (ChloraminesSTD1**2) + ((totaldata/2)-1) * (ChloraminesSTD2**2)) / (totaldata-2))\n",
    "nilai_kritis_Chloramines = scipy.stats.t.ppf(q=1-(alpha/2), df=totaldata-2)\n",
    "nilai_uji_Chloramines = Chloramines_result/(Chloramines_S12*math.sqrt((1/(totaldata/2)) + (1/(totaldata/2))))\n",
    "nilai_p_Chloramines = scipy.stats.t.sf(abs(nilai_uji_Chloramines), df=totaldata-2) * 2\n",
    "\n",
    "print(\"nilai kritis: \" + str(nilai_kritis_Chloramines))\n",
    "print(\"hasil nilai uji: \" + str(nilai_uji_Chloramines))\n",
    "print(\"hasil nilai p: \" + str(nilai_p_Chloramines))\n",
    "\n",
    "if ((nilai_uji_Chloramines > nilai_kritis_Chloramines or nilai_uji_Chloramines < -1 * nilai_kritis_Chloramines) or nilai_p_Chloramines < alpha):\n",
    "    print(\"H0 ditolak\")\n",
    "else:\n",
    "    print(\"H0 diterima\")\n",
    "\n",
    "#H0 tidak memiliki cukup bukti untuk ditolak sehingga rata-rata 100 data awal Chloramines sama dengan rata-rata 100 data akhir Chloramines\n",
    "\n",
    "data = [(dataset.Chloramines[0:100]),(dataset.Chloramines[int(len(dataset.Chloramines)-100):len(dataset.Chloramines)])]\n",
    "plt.boxplot(data)\n",
    "plt.show()"
   ]
  },
  {
   "cell_type": "code",
   "execution_count": 65,
   "metadata": {},
   "outputs": [
    {
     "name": "stdout",
     "output_type": "stream",
     "text": [
      "Ratio 1: 0.4835820895522388\n",
      "Ratio 2: 0.48656716417910445\n",
      "nilai kritis: 1.6456120727025103\n",
      "hasil nilai uji: -0.13388958661778735\n",
      "hasil nilai p: 0.44675164429687164\n",
      "H0 diterima\n"
     ]
    }
   ],
   "source": [
    "#Nomor 5d\n",
    "\n",
    "datasetTurbidity1 = dataset.Turbidity[0:int(len(dataset.Turbidity)/2)]\n",
    "datasetTurbidity2 = dataset.Turbidity[int(len(dataset.Turbidity)/2):len(dataset.Turbidity)]\n",
    "TurbidityRatio1 = datasetTurbidity1[datasetTurbidity1 > 4].count() / len(datasetTurbidity1)\n",
    "TurbidityRatio2 = datasetTurbidity2[datasetTurbidity2 > 4].count() / len(datasetTurbidity2)\n",
    "print(\"Ratio 1: \" + str(TurbidityRatio1))\n",
    "print(\"Ratio 2: \" + str(TurbidityRatio2))\n",
    "\n",
    "H0_Turbidity = 0\n",
    "Turbidity_result = TurbidityRatio1 - TurbidityRatio2\n",
    "alpha = 0.05\n",
    "totaldata = 2010\n",
    "p_accent = (datasetTurbidity1[datasetTurbidity1 > 4].count() + datasetTurbidity2[datasetTurbidity2 > 4].count())/ totaldata\n",
    "q_accent = 1-p_accent\n",
    "nilai_kritis_Turbidity = scipy.stats.t.ppf(q=1-alpha, df=totaldata)\n",
    "nilai_uji_Turbidity = (Turbidity_result-H0_Turbidity)/(math.sqrt(p_accent*q_accent*((1/(totaldata/2)) + (1/(totaldata/2)))))\n",
    "nilai_p_Turbidity = scipy.stats.t.sf(abs(nilai_uji_Turbidity), df=totaldata)\n",
    "\n",
    "print(\"nilai kritis: \" + str(nilai_kritis_Turbidity))\n",
    "print(\"hasil nilai uji: \" + str(nilai_uji_Turbidity))\n",
    "print(\"hasil nilai p: \" + str(nilai_p_Turbidity))\n",
    "\n",
    "if ((nilai_uji_Turbidity > nilai_kritis_Turbidity) or nilai_p_Turbidity < alpha):\n",
    "    print(\"H0 ditolak\")\n",
    "else:\n",
    "    print(\"H0 diterima\")\n",
    "\n",
    "#H0 tidak memiliki cukup bukti untuk ditolak sehingga ratio Turbidity awal sama dengan ratio Turbidity akhir\n"
   ]
  },
  {
   "cell_type": "code",
   "execution_count": 66,
   "metadata": {},
   "outputs": [
    {
     "name": "stdout",
     "output_type": "stream",
     "text": [
      "Variance 1: 1706.6967049607556\n",
      "Variance 2: 1681.0587031843586\n",
      "batas 1: 1.1317692392568777\n",
      "batas 2: 0.883572344355818\n",
      "nilai f: 1.0152511043950054\n",
      "H0 diterima\n"
     ]
    }
   ],
   "source": [
    "#Nomor 5e\n",
    "\n",
    "SulfateVariance1 = numpy.var(dataset.Sulfate[0:int(len(dataset.Sulfate)/2)])\n",
    "SulfateVariance2 = numpy.var(dataset.Sulfate[int(len(dataset.Sulfate)/2):len(dataset.Sulfate)])\n",
    "print(\"Variance 1: \" + str(SulfateVariance1))\n",
    "print(\"Variance 2: \" + str(SulfateVariance2))\n",
    "\n",
    "H0_Sulfate = 0\n",
    "Sulfate_result = SulfateVariance1-SulfateVariance2\n",
    "alpha = 0.05\n",
    "totaldata = 2010\n",
    "batas1_Sulfate = scipy.stats.f.ppf(1-(alpha/2),(totaldata/2)-1,(totaldata/2)-1)\n",
    "batas2_Sulfate = scipy.stats.f.ppf(alpha/2,(totaldata/2)-1,(totaldata/2)-1)\n",
    "nilai_f_Sulfate = SulfateVariance1/SulfateVariance2\n",
    "\n",
    "print(\"batas 1: \" + str(batas1_Sulfate))\n",
    "print(\"batas 2: \" + str(batas2_Sulfate))\n",
    "print(\"nilai f: \" + str(nilai_f_Sulfate))\n",
    "\n",
    "if (batas2_Sulfate > batas1_Sulfate):\n",
    "    if(nilai_f_Sulfate > batas1_Sulfate and nilai_f_Sulfate < batas2_Sulfate):\n",
    "        print(\"H0 diterima\")\n",
    "    else:\n",
    "        print(\"H0 ditolak\")\n",
    "else:\n",
    "    if(nilai_f_Sulfate > batas2_Sulfate and nilai_f_Sulfate < batas1_Sulfate):\n",
    "        print(\"H0 diterima\")\n",
    "    else:\n",
    "        print(\"H0 ditolak\")\n",
    "\n",
    "#Nilai f berada di dalam batas sehingga pengujian diterima"
   ]
  },
  {
   "cell_type": "code",
   "execution_count": 67,
   "metadata": {},
   "outputs": [
    {
     "name": "stdout",
     "output_type": "stream",
     "text": [
      "koefisien korelasi: 0.015475094408433468\n"
     ]
    },
    {
     "data": {
      "image/png": "[encoded data removed]",
      "text/plain": [
       "<Figure size 432x288 with 1 Axes>"
      ]
     },
     "metadata": {
      "needs_background": "light"
     },
     "output_type": "display_data"
    },
    {
     "name": "stdout",
     "output_type": "stream",
     "text": [
      "koefisien korelasi: -0.0014631528959479535\n"
     ]
    },
    {
     "data": {
      "image/png": "[encoded data removed]",
      "text/plain": [
       "<Figure size 432x288 with 1 Axes>"
      ]
     },
     "metadata": {
      "needs_background": "light"
     },
     "output_type": "display_data"
    },
    {
     "name": "stdout",
     "output_type": "stream",
     "text": [
      "koefisien korelasi: 0.03897657818173471\n"
     ]
    },
    {
     "data": {
      "image/png": "[encoded data removed]",
      "text/plain": [
       "<Figure size 432x288 with 1 Axes>"
      ]
     },
     "metadata": {
      "needs_background": "light"
     },
     "output_type": "display_data"
    },
    {
     "name": "stdout",
     "output_type": "stream",
     "text": [
      "koefisien korelasi: 0.020778921840524097\n"
     ]
    },
    {
     "data": {
      "image/png": "[encoded data removed]",
      "text/plain": [
       "<Figure size 432x288 with 1 Axes>"
      ]
     },
     "metadata": {
      "needs_background": "light"
     },
     "output_type": "display_data"
    },
    {
     "name": "stdout",
     "output_type": "stream",
     "text": [
      "koefisien korelasi: -0.01570316441927383\n"
     ]
    },
    {
     "data": {
      "image/png": "[encoded data removed]",
      "text/plain": [
       "<Figure size 432x288 with 1 Axes>"
      ]
     },
     "metadata": {
      "needs_background": "light"
     },
     "output_type": "display_data"
    },
    {
     "name": "stdout",
     "output_type": "stream",
     "text": [
      "koefisien korelasi: -0.01625712011137707\n"
     ]
    },
    {
     "data": {
      "image/png": "[encoded data removed]",
      "text/plain": [
       "<Figure size 432x288 with 1 Axes>"
      ]
     },
     "metadata": {
      "needs_background": "light"
     },
     "output_type": "display_data"
    },
    {
     "name": "stdout",
     "output_type": "stream",
     "text": [
      "koefisien korelasi: -0.015488461910747285\n"
     ]
    },
    {
     "data": {
      "image/png": "[encoded data removed]",
      "text/plain": [
       "<Figure size 432x288 with 1 Axes>"
      ]
     },
     "metadata": {
      "needs_background": "light"
     },
     "output_type": "display_data"
    },
    {
     "name": "stdout",
     "output_type": "stream",
     "text": [
      "koefisien korelasi: 0.009236711064713032\n"
     ]
    },
    {
     "data": {
      "image/png": "[encoded data removed]",
      "text/plain": [
       "<Figure size 432x288 with 1 Axes>"
      ]
     },
     "metadata": {
      "needs_background": "light"
     },
     "output_type": "display_data"
    },
    {
     "name": "stdout",
     "output_type": "stream",
     "text": [
      "koefisien korelasi: 0.022331042640622682\n"
     ]
    },
    {
     "data": {
      "image/png": "[encoded data removed]",
      "text/plain": [
       "<Figure size 432x288 with 1 Axes>"
      ]
     },
     "metadata": {
      "needs_background": "light"
     },
     "output_type": "display_data"
    }
   ],
   "source": [
    "#Nomor 6\n",
    "#Tes korelasi data Potability dengan kolom data lain\n",
    "#Menggunakan metode Pearson\n",
    "\n",
    "Potability_pH_corr = scipy.stats.pearsonr(dataset.Potability, dataset.pH)\n",
    "print(\"koefisien korelasi: \" +str(Potability_pH_corr[0]))\n",
    "plt.scatter(dataset.Potability, dataset.pH)\n",
    "plt.show()\n",
    "\n",
    "Potability_Hardness_corr = scipy.stats.pearsonr(dataset.Potability, dataset.Hardness)\n",
    "print(\"koefisien korelasi: \" + str(Potability_Hardness_corr[0]))\n",
    "plt.scatter(dataset.Potability, dataset.Hardness)\n",
    "plt.show()\n",
    "\n",
    "Potability_Solids_corr = scipy.stats.pearsonr(dataset.Potability, dataset.Solids)\n",
    "print(\"koefisien korelasi: \" + str(Potability_Solids_corr[0]))\n",
    "plt.scatter(dataset.Potability, dataset.Solids)\n",
    "plt.show()\n",
    "\n",
    "Potability_Chloramines_corr = scipy.stats.pearsonr(dataset.Potability, dataset.Chloramines)\n",
    "print(\"koefisien korelasi: \" + str(Potability_Chloramines_corr[0]))\n",
    "plt.scatter(dataset.Potability, dataset.Chloramines)\n",
    "plt.show()\n",
    "\n",
    "Potability_Sulfate_corr = scipy.stats.pearsonr(dataset.Potability, dataset.Sulfate)\n",
    "print(\"koefisien korelasi: \" + str(Potability_Sulfate_corr[0]))\n",
    "plt.scatter(dataset.Potability, dataset.Sulfate)\n",
    "plt.show()\n",
    "\n",
    "Potability_Conductivity_corr = scipy.stats.pearsonr(dataset.Potability, dataset.Conductivity)\n",
    "print(\"koefisien korelasi: \" + str(Potability_Conductivity_corr[0]))\n",
    "plt.scatter(dataset.Potability, dataset.Conductivity)\n",
    "plt.show()\n",
    "\n",
    "Potability_OrganicCarbon_corr = scipy.stats.pearsonr(dataset.Potability, dataset.OrganicCarbon)\n",
    "print(\"koefisien korelasi: \" + str(Potability_OrganicCarbon_corr[0]))\n",
    "plt.scatter(dataset.Potability, dataset.OrganicCarbon)\n",
    "plt.show()\n",
    "\n",
    "Potability_Trihalomethanes_corr = scipy.stats.pearsonr(dataset.Potability, dataset.Trihalomethanes)\n",
    "print(\"koefisien korelasi: \" + str(Potability_Trihalomethanes_corr[0]))\n",
    "plt.scatter(dataset.Potability, dataset.Trihalomethanes)\n",
    "plt.show()\n",
    "\n",
    "Potability_Turbidity_corr = scipy.stats.pearsonr(dataset.Potability, dataset.Turbidity)\n",
    "print(\"koefisien korelasi: \" + str(Potability_Turbidity_corr[0]))\n",
    "plt.scatter(dataset.Potability, dataset.Turbidity)\n",
    "plt.show()\n",
    "\n",
    "#semua koefisien korelasi memiliki nilai mendekati 0 sehingga tidak ada korelasi antara kolom target dan kolom non target"
   ]
  }
 ],
 "metadata": {
  "interpreter": {
   "hash": "07efdcd4b820c98a756949507a4d29d7862823915ec7477944641bea022f4f62"
  },
  "kernelspec": {
   "display_name": "Python 3",
   "language": "python",
   "name": "python3"
  },
  "language_info": {
   "codemirror_mode": {
    "name": "ipython",
    "version": 3
   },
   "file_extension": ".py",
   "mimetype": "text/x-python",
   "name": "python",
   "nbconvert_exporter": "python",
   "pygments_lexer": "ipython3",
   "version": "3.8.3"
  }
 },
 "nbformat": 4,
 "nbformat_minor": 2
}
